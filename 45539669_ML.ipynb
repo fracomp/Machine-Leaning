{
 "cells": [
  {
   "cell_type": "markdown",
   "metadata": {
    "colab_type": "text",
    "id": "y1yR2NLV5g5L"
   },
   "source": [
    "## Conventional machine learning techniques for image dataset"
   ]
  },
  {
   "cell_type": "markdown",
   "metadata": {
    "colab_type": "text",
    "id": "daL17pAC5mmR"
   },
   "source": [
    "This first part of the notebook aims to illustrate some of the conventional machine learning algorithms in regards to a computer vision task.\n",
    "\n",
    "To achieve this, we are going to work with the CelebA dataset, a widely used dataset of celebrity faces. \n",
    "The goal is to predict the hair colour of the celebrity, which will be one of the following classes: black, brown, blond or gray.\n",
    "\n",
    "The provided input are images which consists in 4d tensors. They have 3 dimensions: height, width and color depth. In particular, a certain sample comprises:\n",
    "\n",
    "(n, 48, 48, 3)\n",
    "\n",
    "where n indicates the number of records in that particular data batch.\n",
    "\n",
    "The problem we are facing is **multiclass classification**. \n",
    "\n",
    "Our measure of success will be **total accuracy**, which will tell us how many images the model is able to correctly classify once some unseen data is avalaible.\n",
    "\n",
    "Before moving to the next step, it is important to declare the following two hypothesis:\n",
    "\n",
    "\n",
    "1.   The hair colour can be predicted given my inputs.\n",
    "2.   The avalaible data is adequately informative to learn the relationship between inputs and outputs.\n",
    "\n"
   ]
  },
  {
   "cell_type": "markdown",
   "metadata": {
    "colab_type": "text",
    "id": "LdP7Hml7-xv4"
   },
   "source": [
    "### Preparing the data"
   ]
  },
  {
   "cell_type": "markdown",
   "metadata": {
    "colab_type": "text",
    "id": "Yk2zeA8q-5cm"
   },
   "source": [
    "The following libraries will be essentials for our task. \n",
    "\n",
    "For convenience most of them (the basics one) will be declare in this section."
   ]
  },
  {
   "cell_type": "code",
   "execution_count": 0,
   "metadata": {
    "colab": {},
    "colab_type": "code",
    "id": "YPmEUXquZemn"
   },
   "outputs": [],
   "source": [
    "# Common imports\n",
    "import numpy as np\n",
    "import os\n",
    "from os.path import join\n",
    "import warnings\n",
    "warnings.filterwarnings(\"ignore\")\n",
    "warnings.simplefilter(action='ignore', category=FutureWarning)\n",
    "import pandas\n",
    "import pandas as pd\n",
    "from sklearn.metrics import accuracy_score\n",
    "import matplotlib as mpl\n",
    "import matplotlib.pyplot as plt\n",
    "from datetime import datetime #this enable us to timing our models\n",
    "import collections\n",
    "from sklearn.model_selection import GridSearchCV\n",
    "from sklearn.model_selection import RandomizedSearchCV\n",
    "import seaborn as sns\n",
    "%matplotlib inline\n"
   ]
  },
  {
   "cell_type": "markdown",
   "metadata": {
    "colab_type": "text",
    "id": "kSuiw-mN_-hc"
   },
   "source": [
    "The data has already been splitted into training, validation and test set. \n",
    "\n",
    "The idea is to build a model into the training set, evaluate it in the validation set (by tuning hyperparameters) and finally checking the performance on data that the model has never seen (test dataset).\n",
    "\n",
    "The main goal in machine learning is to obtain models that **generalize** well, that perform well on never-before-seen data.\n",
    "\n",
    "The following snippet is responsable for reading the data and normalize it so the values are in the range [0,1]. This is because most of the machine learning methods works better with small values as input."
   ]
  },
  {
   "cell_type": "code",
   "execution_count": 3,
   "metadata": {
    "colab": {
     "base_uri": "https://localhost:8080/",
     "height": 173
    },
    "colab_type": "code",
    "executionInfo": {
     "elapsed": 48563,
     "status": "ok",
     "timestamp": 1591167473518,
     "user": {
      "displayName": "Francesco Palermo",
      "photoUrl": "https://lh3.googleusercontent.com/a-/AOh14GjNvNe6zW5ch73bfx-ff4TcSLLAt7R3hytyKi8gng=s64",
      "userId": "14561537474749106550"
     },
     "user_tz": -600
    },
    "id": "sLEZOSmoZyHA",
    "outputId": "e5608411-d001-434f-b513-f304c000e9cb"
   },
   "outputs": [
    {
     "name": "stdout",
     "output_type": "stream",
     "text": [
      "Go to this URL in a browser: https://accounts.google.com/o/oauth2/auth?client_id=947318989803-6bn6qk8qdgf4n4g3pfee6491hc0brc4i.apps.googleusercontent.com&redirect_uri=urn%3aietf%3awg%3aoauth%3a2.0%3aoob&response_type=code&scope=email%20https%3a%2f%2fwww.googleapis.com%2fauth%2fdocs.test%20https%3a%2f%2fwww.googleapis.com%2fauth%2fdrive%20https%3a%2f%2fwww.googleapis.com%2fauth%2fdrive.photos.readonly%20https%3a%2f%2fwww.googleapis.com%2fauth%2fpeopleapi.readonly\n",
      "\n",
      "Enter your authorization code:\n",
      "··········\n",
      "Mounted at /content/drive/\n",
      "(98479, 48, 48, 3)\n",
      "(12270, 48, 48, 3)\n",
      "(11921, 48, 48, 3)\n"
     ]
    }
   ],
   "source": [
    "from google.colab import drive\n",
    "drive.mount('/content/drive/')\n",
    "\n",
    "image_size = 48\n",
    "hair_colours = ['black', 'blond', 'brown', 'gray']\n",
    "dataset_directory = '/content/drive/My Drive/ML/' \n",
    "#training\n",
    "files_train = np.load(join(dataset_directory, 'train_files.npy'))\n",
    "X_train = np.load(join(dataset_directory, 'train_images.npy'))\n",
    "y_train= np.load(join(dataset_directory, 'train_labels.npy'))\n",
    "\n",
    "#validation\n",
    "X_val = np.load(join(dataset_directory, 'val_images.npy'))\n",
    "y_val = np.load(join(dataset_directory, 'val_labels.npy'))\n",
    "files_val = np.load(join(dataset_directory, 'val_files.npy'))\n",
    "\n",
    "#test public\n",
    "X_test = np.load(join(dataset_directory, 'test_public_images.npy'))\n",
    "files_test_public = np.load(join(dataset_directory, 'test_public_files.npy'))\n",
    "\n",
    "#test private\n",
    "X_test_priv = np.load(join(dataset_directory, 'test_private_images.npy'))\n",
    "files_test_private = np.load(join(dataset_directory, 'test_private_files.npy'))\n",
    "\n",
    "X_train = X_train.reshape([-1, image_size, image_size, 3]) / 255.0\n",
    "X_val = X_val.reshape([-1, image_size, image_size, 3]) / 255.0\n",
    "X_test = X_test.reshape([-1, image_size, image_size, 3]) / 255.0\n",
    "X_test_priv = X_test_priv.reshape([-1, image_size, image_size, 3]) / 255.0\n",
    "\n",
    "print(X_train.shape)\n",
    "print(X_val.shape)\n",
    "print(X_test.shape)\n",
    "print(X_test_priv.shape)\n"
   ]
  },
  {
   "cell_type": "markdown",
   "metadata": {
    "colab_type": "text",
    "id": "rcTz6PclDDqw"
   },
   "source": [
    "### Simple EDA and useful functions"
   ]
  },
  {
   "cell_type": "markdown",
   "metadata": {
    "colab_type": "text",
    "id": "8fR-R68gDOcC"
   },
   "source": [
    "A very simple exploratory data analysis (EDA) is provided. In a classic machine learning project EDA might take long time and it gives useful insights back to users.\n",
    "\n",
    "Let's check the distribution of the hair colour in our training dataset."
   ]
  },
  {
   "cell_type": "code",
   "execution_count": 0,
   "metadata": {
    "colab": {
     "base_uri": "https://localhost:8080/",
     "height": 312
    },
    "colab_type": "code",
    "executionInfo": {
     "elapsed": 774,
     "status": "ok",
     "timestamp": 1590581017263,
     "user": {
      "displayName": "Francesco Palermo",
      "photoUrl": "https://lh3.googleusercontent.com/a-/AOh14GjNvNe6zW5ch73bfx-ff4TcSLLAt7R3hytyKi8gng=s64",
      "userId": "14561537474749106550"
     },
     "user_tz": -600
    },
    "id": "vRtzJ9zaL3VC",
    "outputId": "0d382238-1902-41c3-ee09-345470483f33"
   },
   "outputs": [
    {
     "data": {
      "text/plain": [
       "Text(0, 0.5, 'Pertentages of people in the training set')"
      ]
     },
     "execution_count": 3,
     "metadata": {
      "tags": []
     },
     "output_type": "execute_result"
    },
    {
     "data": {
      "image/png": "[encoded data removed]",
      "text/plain": [
       "<Figure size 432x288 with 1 Axes>"
      ]
     },
     "metadata": {
      "needs_background": "light",
      "tags": []
     },
     "output_type": "display_data"
    }
   ],
   "source": [
    "#Distribution of hair colour\n",
    "ls=collections.Counter(labels_train)\n",
    "x=['black','brown','blond','grey']\n",
    "y=[ls[0]/len(labels_train),ls[2]/len(labels_train),ls[1]/len(labels_train),ls[3]/len(labels_train)]\n",
    "plt.bar(x, y, color=['black', 'brown', 'yellow', 'grey'])\n",
    "plt.title(\"Distribution of colour hair in the training data\")\n",
    "plt.xlabel(\"Class labels\")\n",
    "plt.ylabel(\"Pertentages of people in the training set\")\n",
    "\n"
   ]
  },
  {
   "cell_type": "markdown",
   "metadata": {
    "colab_type": "text",
    "id": "TZ4DhdDsN62d"
   },
   "source": [
    "According to the above bar chart, the majority of people in the training set has black hair, followed by brown hair.\n",
    "\n",
    "The classes are not evenly distributed, but each class has fairly large number of individuals. Hence, data imbalance is not a relevant problem for this task."
   ]
  },
  {
   "cell_type": "markdown",
   "metadata": {
    "colab_type": "text",
    "id": "Bjs_ocQ9PsvK"
   },
   "source": [
    "Next, some useful functions will be declared. These will be helpful throughout the notebook.\n",
    "\n",
    "The description of each function can be read by call the function help(function)."
   ]
  },
  {
   "cell_type": "code",
   "execution_count": 0,
   "metadata": {
    "colab": {},
    "colab_type": "code",
    "id": "T40Fm4uDQJkJ"
   },
   "outputs": [],
   "source": [
    "def print_csv():\n",
    "    '''This function creates the csv file of the ML best model predictions for Kaggle submission'''\n",
    "    final_df = pd.DataFrame({'ID':files_test_public,'Prediction': y_pred})\n",
    "    final_df.to_csv(join(dataset_directory,'45539669-conv.csv'), header=True, index=False)"
   ]
  },
  {
   "cell_type": "code",
   "execution_count": 0,
   "metadata": {
    "colab": {},
    "colab_type": "code",
    "id": "IvUxFcLXan7d"
   },
   "outputs": [],
   "source": [
    "def plot_digit(data):\n",
    "    '''This function is used to illustrate images (see Random Forest)'''\n",
    "    image = data.reshape(48, 48,3)\n",
    "    plt.imshow(image, cmap = mpl.cm.afmhot,\n",
    "               interpolation=\"nearest\")\n",
    "    plt.axis(\"off\")"
   ]
  },
  {
   "cell_type": "code",
   "execution_count": null,
   "metadata": {},
   "outputs": [],
   "source": [
    "def train_val_accur(mod):\n",
    "  '''This function plots the training and validation accuracy over the trained epochs DEEP LEARNING'''\n",
    "  acc = mod.history['accuracy']\n",
    "  val_acc = mod.history['val_accuracy']\n",
    "  epochs = range(1, len(acc) + 1)\n",
    "  plt.plot(epochs, acc, 'bo', label='Training acc')\n",
    "  plt.plot(epochs, val_acc, 'b', label='Validation acc')\n",
    "  plt.title('Training and validation accuracy')\n",
    "  plt.xlabel('Epochs')\n",
    "  plt.ylabel('Accuracy')\n",
    "  plt.ylim(0.70, 0.99)\n",
    "  plt.legend()"
   ]
  },
  {
   "cell_type": "markdown",
   "metadata": {
    "colab_type": "text",
    "id": "zTGP6u4HXgQB"
   },
   "source": [
    "### Conventional machine learning methods"
   ]
  },
  {
   "cell_type": "markdown",
   "metadata": {
    "colab_type": "text",
    "id": "pfu12TkIXnil"
   },
   "source": [
    "Some of the conventional machine learning techniques will be applied below.\n",
    "\n",
    "We need to reshape our 4D tensors into 2D tensor to give as input in sklearn algorithm (only for conventional ML)."
   ]
  },
  {
   "cell_type": "code",
   "execution_count": 0,
   "metadata": {
    "colab": {},
    "colab_type": "code",
    "id": "vcDnHvqsQ7ul"
   },
   "outputs": [],
   "source": [
    "#predictors\n",
    "X_train =np.reshape(images_train, (images_train.shape[0],6912))\n",
    "X_val =np.reshape(images_val, (images_val.shape[0],6912))\n",
    "X_test =np.reshape(images_test_public, (images_test_public.shape[0],6912))\n",
    "#labels (just rename it for commodity)\n",
    "y_train=labels_train\n",
    "y_val=labels_val"
   ]
  },
  {
   "cell_type": "markdown",
   "metadata": {
    "colab_type": "text",
    "id": "Zu53lCY4Ybmm"
   },
   "source": [
    "Before developing any sofisticated technique a baseline model need to be built. \n",
    "\n",
    "We need to create models that achieve statistical power, or in other words, that do better than the baseline (dumb) model."
   ]
  },
  {
   "cell_type": "code",
   "execution_count": 0,
   "metadata": {
    "colab": {
     "base_uri": "https://localhost:8080/",
     "height": 34
    },
    "colab_type": "code",
    "executionInfo": {
     "elapsed": 863,
     "status": "ok",
     "timestamp": 1590529659707,
     "user": {
      "displayName": "Francesco Palermo",
      "photoUrl": "https://lh3.googleusercontent.com/a-/AOh14GjNvNe6zW5ch73bfx-ff4TcSLLAt7R3hytyKi8gng=s64",
      "userId": "14561537474749106550"
     },
     "user_tz": -600
    },
    "id": "eVFjWzWkZ5qo",
    "outputId": "40f9f742-552f-4edb-beec-59be26ef28b3"
   },
   "outputs": [
    {
     "data": {
      "text/plain": [
       "0.30794382558718103"
      ]
     },
     "execution_count": 5,
     "metadata": {
      "tags": []
     },
     "output_type": "execute_result"
    }
   ],
   "source": [
    "#BASELINE MODEL\n",
    "import copy\n",
    "train_label_copy = copy.copy(y_train)\n",
    "np.random.shuffle(train_label_copy)\n",
    "hits_array=np.array(y_train) == np.array(train_label_copy)\n",
    "float(np.sum(hits_array)/len(y_train))\n"
   ]
  },
  {
   "cell_type": "markdown",
   "metadata": {
    "colab_type": "text",
    "id": "qWVNzMQ2bBs-"
   },
   "source": [
    "Any models that achieve a total accuracy higher than around 0.31 can be said to achieve statistical power. If this happens, our hypothesis made above will be valid (\"the output can be explained by the avalaible input\") \n",
    "\n",
    "The goal, of course, is to create models that can do much better than that. In other words, methods that achieve high total accuracy as well as being robust.\n",
    "\n",
    "In particular, a model is defined as robust if the total accuracy over training,validation and test set is similar."
   ]
  },
  {
   "cell_type": "markdown",
   "metadata": {
    "colab_type": "text",
    "id": "fJSZOoTTOUeO"
   },
   "source": [
    "#### Naive Bayes"
   ]
  },
  {
   "cell_type": "markdown",
   "metadata": {
    "colab_type": "text",
    "id": "oNtrdqmROchf"
   },
   "source": [
    "**Naive Bayes** is a supervised learning classifier based on the probabilistic Bayes’ theorem.\n",
    "\n",
    "One of the assumption here is that the predictors need to be independent to each other (which can be considered as quite strong assumption some time). \n",
    "\n",
    "There are different versions avalaible based on supplementary predictor assumptions.\n",
    "\n",
    "We are trying to model a Naive Bayes classifier for multinomial models with default parameters."
   ]
  },
  {
   "cell_type": "code",
   "execution_count": 0,
   "metadata": {
    "colab": {
     "base_uri": "https://localhost:8080/",
     "height": 34
    },
    "colab_type": "code",
    "executionInfo": {
     "elapsed": 3490,
     "status": "ok",
     "timestamp": 1590581162481,
     "user": {
      "displayName": "Francesco Palermo",
      "photoUrl": "https://lh3.googleusercontent.com/a-/AOh14GjNvNe6zW5ch73bfx-ff4TcSLLAt7R3hytyKi8gng=s64",
      "userId": "14561537474749106550"
     },
     "user_tz": -600
    },
    "id": "Mu-p1Yp8HAh6",
    "outputId": "5d0e4931-8f48-4ab3-8d16-67923d2c341c"
   },
   "outputs": [
    {
     "name": "stdout",
     "output_type": "stream",
     "text": [
      "0:00:02.649745\n"
     ]
    }
   ],
   "source": [
    "#Naive Bayes\n",
    "from sklearn.naive_bayes import MultinomialNB\n",
    "startTime = datetime.now()\n",
    "naive_clf = MultinomialNB()\n",
    "naive_clf.fit(X_train, y_train)\n",
    "print(datetime.now() - startTime)"
   ]
  },
  {
   "cell_type": "code",
   "execution_count": 0,
   "metadata": {
    "colab": {
     "base_uri": "https://localhost:8080/",
     "height": 34
    },
    "colab_type": "code",
    "executionInfo": {
     "elapsed": 3764,
     "status": "ok",
     "timestamp": 1590451025849,
     "user": {
      "displayName": "Francesco Palermo",
      "photoUrl": "https://lh3.googleusercontent.com/a-/AOh14GjNvNe6zW5ch73bfx-ff4TcSLLAt7R3hytyKi8gng=s64",
      "userId": "14561537474749106550"
     },
     "user_tz": -600
    },
    "id": "hfPvR8aNIxS9",
    "outputId": "daefdbeb-677e-40fb-bf0a-9df28fd1ad6f"
   },
   "outputs": [
    {
     "name": "stdout",
     "output_type": "stream",
     "text": [
      "Training Acc: 0.497 Validation Acc: 0.5042\n"
     ]
    }
   ],
   "source": [
    "#Evaluation of the model on training and validation\n",
    "y_pred_t,y_pred_v=naive_clf.predict(X_train),naive_clf.predict(X_val)\n",
    "print(\"Training Acc:\",round(accuracy_score(y_train, y_pred_t),4),\"Validation Acc:\",round(accuracy_score(y_val, y_pred_v),4))"
   ]
  },
  {
   "cell_type": "markdown",
   "metadata": {
    "colab_type": "text",
    "id": "hgEFZQpHRRdb"
   },
   "source": [
    "The algorithm takes less than 3 seconds to train a model, which is quite impressive. Although we achieve statistical power, the total accuracy of around 0.50 does not look good which can be explained by the wrong initial assumptions made at the begin.\n",
    "\n"
   ]
  },
  {
   "cell_type": "markdown",
   "metadata": {
    "colab_type": "text",
    "id": "tMpPKTk_cLIg"
   },
   "source": [
    "#### Decision tree"
   ]
  },
  {
   "cell_type": "markdown",
   "metadata": {
    "colab_type": "text",
    "id": "tVcAn2OhheBh"
   },
   "source": [
    "A **Decision Tree** is a method that can be used to divide up a large collection of data into successively smaller sets of records by applying a sequence of simple decision rules. It makes almost no assumptions about the data.\n",
    "\n",
    "It is usually prone to overfit, especially if left with no restriction.\n",
    "\n",
    "Hence, it is important to apply regularization in order to restrict Decision Tree’s freedom during training.\n",
    "\n",
    "Let's fine tune Decision Tree (**Grid Search**) in order to find the suitable hyperparameters. Although this is not done with the full dataset (limited memory capability), it gives an idea for which hyperparameters we should choose.\n",
    "\n",
    "In addition, those values can prevent a model to overfit."
   ]
  },
  {
   "cell_type": "code",
   "execution_count": 6,
   "metadata": {
    "colab": {
     "base_uri": "https://localhost:8080/",
     "height": 34
    },
    "colab_type": "code",
    "executionInfo": {
     "elapsed": 687873,
     "status": "ok",
     "timestamp": 1591168405135,
     "user": {
      "displayName": "Francesco Palermo",
      "photoUrl": "https://lh3.googleusercontent.com/a-/AOh14GjNvNe6zW5ch73bfx-ff4TcSLLAt7R3hytyKi8gng=s64",
      "userId": "14561537474749106550"
     },
     "user_tz": -600
    },
    "id": "EL3jkWMYoBiX",
    "outputId": "ccd6f441-1a7c-41bc-d415-e1c532ee2deb"
   },
   "outputs": [
    {
     "data": {
      "text/plain": [
       "{'max_depth': 10, 'max_features': 3000, 'min_samples_leaf': 250}"
      ]
     },
     "execution_count": 6,
     "metadata": {
      "tags": []
     },
     "output_type": "execute_result"
    }
   ],
   "source": [
    "#Fine-tune for Decision Tree\n",
    "from sklearn.tree import DecisionTreeClassifier\n",
    "param_grid = [{'max_depth': [8,10,12], 'min_samples_leaf': [220, 250, 280],'max_features': [1000,2000,3000]}]\n",
    "tree_clf = DecisionTreeClassifier()\n",
    "grid_search = GridSearchCV(tree_clf, param_grid, cv=3, verbose=False, n_jobs=-1)\n",
    "grid_search.fit(X_train[0:20000], y_train[0:20000])\n",
    "grid_search.best_params_"
   ]
  },
  {
   "cell_type": "markdown",
   "metadata": {
    "colab_type": "text",
    "id": "1WHLuK2ftXOi"
   },
   "source": [
    "The **Grid Search** returns these best parameters:\n",
    "\n",
    "\n",
    "1.   '*max_depth*': 10 indicates the max number of levels in a decision tree\n",
    "\n",
    "2.   '*max_features*': 3000 indicates the max number of features considered for splitting a node\n",
    "\n",
    "3.   '*min_samples_leaf*': 250 indicates the min number of data points placed in a node before the node is split\n",
    "\n"
   ]
  },
  {
   "cell_type": "code",
   "execution_count": 0,
   "metadata": {
    "colab": {
     "base_uri": "https://localhost:8080/",
     "height": 34
    },
    "colab_type": "code",
    "executionInfo": {
     "elapsed": 211586,
     "status": "ok",
     "timestamp": 1590640355879,
     "user": {
      "displayName": "Francesco Palermo",
      "photoUrl": "https://lh3.googleusercontent.com/a-/AOh14GjNvNe6zW5ch73bfx-ff4TcSLLAt7R3hytyKi8gng=s64",
      "userId": "14561537474749106550"
     },
     "user_tz": -600
    },
    "id": "1ouyz51kkayM",
    "outputId": "dd224590-a7b7-4857-ef97-834ce3d07507"
   },
   "outputs": [
    {
     "name": "stdout",
     "output_type": "stream",
     "text": [
      "0:03:30.534929\n"
     ]
    }
   ],
   "source": [
    "#Decision tree classifier with fine tuning\n",
    "from sklearn.tree import DecisionTreeClassifier\n",
    "tree_clf = DecisionTreeClassifier(max_depth=10,min_samples_split=250,max_features= 3000)\n",
    "startTime = datetime.now()\n",
    "tree_clf.fit(X_train, y_train)\n",
    "print(datetime.now() - startTime)"
   ]
  },
  {
   "cell_type": "code",
   "execution_count": 0,
   "metadata": {
    "colab": {
     "base_uri": "https://localhost:8080/",
     "height": 34
    },
    "colab_type": "code",
    "executionInfo": {
     "elapsed": 4606,
     "status": "ok",
     "timestamp": 1590531436210,
     "user": {
      "displayName": "Francesco Palermo",
      "photoUrl": "https://lh3.googleusercontent.com/a-/AOh14GjNvNe6zW5ch73bfx-ff4TcSLLAt7R3hytyKi8gng=s64",
      "userId": "14561537474749106550"
     },
     "user_tz": -600
    },
    "id": "Gh1Wcj0_kpmI",
    "outputId": "ef91817a-19b7-4a29-e204-f5d1a4c7570b"
   },
   "outputs": [
    {
     "name": "stdout",
     "output_type": "stream",
     "text": [
      "Training Acc: 0.75 Validation Acc: 0.7186\n"
     ]
    }
   ],
   "source": [
    "#Evaluation of the model on training and validation\n",
    "y_pred_t,y_pred_v=tree_clf.predict(X_train),tree_clf.predict(X_val)\n",
    "print(\"Training Acc:\",round(accuracy_score(y_train, y_pred_t),4),\"Validation Acc:\",round(accuracy_score(y_val, y_pred_v),4))"
   ]
  },
  {
   "cell_type": "markdown",
   "metadata": {
    "colab_type": "text",
    "id": "D8ZGrPzrHpp3"
   },
   "source": [
    "This is definitely a good model, especially if we compare with Naive Bayes. We achieved almost 0.72 in the validation set which brings an improvement of 0.22 in terms of total accuracy in the validation set.\n"
   ]
  },
  {
   "cell_type": "markdown",
   "metadata": {
    "colab_type": "text",
    "id": "0j2zp2eOID4u"
   },
   "source": [
    "#### Random Forest"
   ]
  },
  {
   "cell_type": "markdown",
   "metadata": {
    "colab_type": "text",
    "id": "MH9bzq1FIIG_"
   },
   "source": [
    "Decision Trees play an important role in Random forest. \n",
    "\n",
    "**Random forest** in a ensemble learning technique which aggregates the prediction of several Decision Trees over different random samples (bagging).\n",
    "\n",
    "With a few exceptions, a RandomForestClassifier has all the hyperparameters of a DecisionTreeClassifier. Therefore, we are reusing some of the decision Tree hyperparameters found previously with GridSearch."
   ]
  },
  {
   "cell_type": "code",
   "execution_count": 0,
   "metadata": {
    "colab": {},
    "colab_type": "code",
    "id": "Ii4JbYNfLAqC"
   },
   "outputs": [],
   "source": [
    "#Random forest model\n",
    "from sklearn.ensemble import RandomForestClassifier\n",
    "rnd_clf = RandomForestClassifier(n_estimators=30,max_features=3000,min_samples_leaf=250,max_depth=10)\n",
    "rnd_clf.fit(X_train, y_train)"
   ]
  },
  {
   "cell_type": "code",
   "execution_count": 0,
   "metadata": {
    "colab": {
     "base_uri": "https://localhost:8080/",
     "height": 34
    },
    "colab_type": "code",
    "executionInfo": {
     "elapsed": 5151,
     "status": "ok",
     "timestamp": 1590541622113,
     "user": {
      "displayName": "Francesco Palermo",
      "photoUrl": "https://lh3.googleusercontent.com/a-/AOh14GjNvNe6zW5ch73bfx-ff4TcSLLAt7R3hytyKi8gng=s64",
      "userId": "14561537474749106550"
     },
     "user_tz": -600
    },
    "id": "LSimeYSnLS_F",
    "outputId": "9345fee1-3aa1-4a81-e6f5-3cd290de0a7e"
   },
   "outputs": [
    {
     "name": "stdout",
     "output_type": "stream",
     "text": [
      "Training Acc: 0.7836 Validation Acc: 0.7575\n"
     ]
    }
   ],
   "source": [
    "#Evaluation of the model on training and validation\n",
    "y_pred_t,y_pred_v=rnd_clf.predict(X_train),rnd_clf.predict(X_val)\n",
    "print(\"Training Acc:\",round(accuracy_score(y_train, y_pred_t),4),\"Validation Acc:\",round(accuracy_score(y_val, y_pred_v),4))"
   ]
  },
  {
   "cell_type": "markdown",
   "metadata": {
    "colab_type": "text",
    "id": "9tTECJUbZhvb"
   },
   "source": [
    "The number of Decision Trees involved are 30 (*n_estimators=30*). Each of them predicts the most probable class for each sample, and Random forest aggregates the outcomes into one by using a mode (for classification task).\n",
    "\n",
    "We are improving by 4% the performance on validation set in comparison with previous methods."
   ]
  },
  {
   "cell_type": "markdown",
   "metadata": {
    "colab_type": "text",
    "id": "A_pmPld9ZY-e"
   },
   "source": [
    "##### Feature importance"
   ]
  },
  {
   "cell_type": "markdown",
   "metadata": {
    "colab_type": "text",
    "id": "bnSJRsOeZsL1"
   },
   "source": [
    "Another great quality of Random Forests is that it is relatively easy to compute the importance of each attribute in regards to the classication task.\n",
    "\n",
    "*Scikit-Learn* calculates this score automatically for each feature after the training process, and then it scales these values so that the sum of all importances is equal to 1.\n",
    "\n",
    "The following chart shows a plot of each pixel’s importance."
   ]
  },
  {
   "cell_type": "code",
   "execution_count": 0,
   "metadata": {
    "colab": {
     "base_uri": "https://localhost:8080/",
     "height": 304
    },
    "colab_type": "code",
    "executionInfo": {
     "elapsed": 866,
     "status": "ok",
     "timestamp": 1590543262590,
     "user": {
      "displayName": "Francesco Palermo",
      "photoUrl": "https://lh3.googleusercontent.com/a-/AOh14GjNvNe6zW5ch73bfx-ff4TcSLLAt7R3hytyKi8gng=s64",
      "userId": "14561537474749106550"
     },
     "user_tz": -600
    },
    "id": "w8pemveG4te8",
    "outputId": "25843ee1-0fa3-4660-c095-34f135ca7434"
   },
   "outputs": [
    {
     "name": "stderr",
     "output_type": "stream",
     "text": [
      "Clipping input data to the valid range for imshow with RGB data ([0..1] for floats or [0..255] for integers).\n"
     ]
    },
    {
     "data": {
      "text/plain": [
       "Text(0.5, 1.0, 'Feature importance for Random Forest classifier')"
      ]
     },
     "execution_count": 21,
     "metadata": {
      "tags": []
     },
     "output_type": "execute_result"
    },
    {
     "data": {
      "image/png": "[encoded data removed]",
      "text/plain": [
       "<Figure size 432x288 with 2 Axes>"
      ]
     },
     "metadata": {
      "needs_background": "light",
      "tags": []
     },
     "output_type": "display_data"
    }
   ],
   "source": [
    "#FEATURE IMPORTANCE\n",
    "plot_digit(rnd_clf.feature_importances_*150) #need to make larger values to see a good graph\n",
    "\n",
    "cbar = plt.colorbar(ticks=[rnd_clf.feature_importances_.min(), rnd_clf.feature_importances_.max()*8.51])\n",
    "cbar.ax.set_yticklabels(['Not important', 'Very important'])\n",
    "plt.title(\"Feature importance for Random Forest classifier\")\n"
   ]
  },
  {
   "cell_type": "markdown",
   "metadata": {
    "colab_type": "text",
    "id": "zj0ViwfJhGw7"
   },
   "source": [
    "The above picture yielded some interesting results. The black colour shows those pixels that did not support the classification problem at all.\n",
    "\n",
    "On the other hand, the coloured ones show the pixels that play an important role in the classification. We can see from the graph how these pixels form the hair shape of a typical person. In addition, by looking at the bottom left/right corner of the picture some red pixels can be found. These probably come from females which usually have longer hair than males.\n",
    "\n",
    "Finally, these insights can be used for *feature selection* by eliminating those useless pixels."
   ]
  },
  {
   "cell_type": "markdown",
   "metadata": {
    "colab_type": "text",
    "id": "rM8ba-AoUwPn"
   },
   "source": [
    "#### Logistic Regression"
   ]
  },
  {
   "cell_type": "markdown",
   "metadata": {
    "colab_type": "text",
    "id": "gBsbqKErU5_Y"
   },
   "source": [
    "Logistic Regression is one of the oldest supervised machine learning classifier. It estimates the probability that a record belongs to a particular class. It is a binary classifier per definition. \n",
    "\n",
    "However, there are different methods that we can use to perform multiclass classification with the support of multiple binary classifiers (See OVA or OVO). \n",
    "\n",
    "The following snippet of code attempts to find the best hyperparameters for logistic regression through **Grid Search**. As we have done previously, we only use a subset of the training to have a glimpse of which parameters can work best."
   ]
  },
  {
   "cell_type": "code",
   "execution_count": 7,
   "metadata": {
    "colab": {
     "base_uri": "https://localhost:8080/",
     "height": 34
    },
    "colab_type": "code",
    "executionInfo": {
     "elapsed": 1227217,
     "status": "ok",
     "timestamp": 1591169842417,
     "user": {
      "displayName": "Francesco Palermo",
      "photoUrl": "https://lh3.googleusercontent.com/a-/AOh14GjNvNe6zW5ch73bfx-ff4TcSLLAt7R3hytyKi8gng=s64",
      "userId": "14561537474749106550"
     },
     "user_tz": -600
    },
    "id": "TQMezwV1a23_",
    "outputId": "3b323ed2-bd51-4d97-ec47-af31b365b3c2"
   },
   "outputs": [
    {
     "data": {
      "text/plain": [
       "{'C': 0.07, 'penalty': 'l2'}"
      ]
     },
     "execution_count": 7,
     "metadata": {
      "tags": []
     },
     "output_type": "execute_result"
    }
   ],
   "source": [
    "from sklearn.linear_model import LogisticRegression\n",
    "param_grid = {'penalty': ['l1','l2'], 'C': [0.001,0.005,0.01,0.05,0.07,0.1,0.15,0.2]}\n",
    "logisticRegr = LogisticRegression()\n",
    "grid_search = GridSearchCV(logisticRegr, param_grid, cv=3, verbose=False, n_jobs=-1)\n",
    "grid_search.fit(X_train[0:20000], y_train[0:20000])\n",
    "grid_search.best_params_\n"
   ]
  },
  {
   "cell_type": "markdown",
   "metadata": {
    "colab_type": "text",
    "id": "ZI5TOzTxfu9D"
   },
   "source": [
    "The Grid Search returns these best parameters:\n",
    "\n",
    "1.   C=0.07 is the Inverse regularization parameter\n",
    "2.   penalty ='l2' is the the norm used in the penalization\n",
    "\n"
   ]
  },
  {
   "cell_type": "code",
   "execution_count": 8,
   "metadata": {
    "colab": {
     "base_uri": "https://localhost:8080/",
     "height": 34
    },
    "colab_type": "code",
    "executionInfo": {
     "elapsed": 483628,
     "status": "ok",
     "timestamp": 1591170384839,
     "user": {
      "displayName": "Francesco Palermo",
      "photoUrl": "https://lh3.googleusercontent.com/a-/AOh14GjNvNe6zW5ch73bfx-ff4TcSLLAt7R3hytyKi8gng=s64",
      "userId": "14561537474749106550"
     },
     "user_tz": -600
    },
    "id": "PiLIE_20SBF-",
    "outputId": "ec79787a-1d24-4250-f3dd-6e5f7c9ab1b4"
   },
   "outputs": [
    {
     "name": "stdout",
     "output_type": "stream",
     "text": [
      "0:08:02.628277\n"
     ]
    }
   ],
   "source": [
    "from sklearn.linear_model import LogisticRegression\n",
    "startTime = datetime.now()\n",
    "logisticRegr = LogisticRegression(C=0.07, penalty='l2')\n",
    "logisticRegr.fit(X_train, y_train)\n",
    "print(datetime.now() - startTime)"
   ]
  },
  {
   "cell_type": "code",
   "execution_count": 0,
   "metadata": {
    "colab": {
     "base_uri": "https://localhost:8080/",
     "height": 34
    },
    "colab_type": "code",
    "executionInfo": {
     "elapsed": 3746,
     "status": "ok",
     "timestamp": 1590543193159,
     "user": {
      "displayName": "Francesco Palermo",
      "photoUrl": "https://lh3.googleusercontent.com/a-/AOh14GjNvNe6zW5ch73bfx-ff4TcSLLAt7R3hytyKi8gng=s64",
      "userId": "14561537474749106550"
     },
     "user_tz": -600
    },
    "id": "GNaj3kcuTZR0",
    "outputId": "7df821ce-5965-43dc-c8c8-1a75c070e413"
   },
   "outputs": [
    {
     "name": "stdout",
     "output_type": "stream",
     "text": [
      "Training Acc: 0.8106 Validation Acc: 0.7963\n"
     ]
    }
   ],
   "source": [
    "#Evaluation of the model on training and validation\n",
    "y_pred_t,y_pred_v=logisticRegr.predict(X_train),logisticRegr.predict(X_val)\n",
    "print(\"Training Acc:\",round(accuracy_score(y_train, y_pred_t),4),\"Validation Acc:\",round(accuracy_score(y_val, y_pred_v),4))"
   ]
  },
  {
   "cell_type": "markdown",
   "metadata": {
    "colab_type": "text",
    "id": "oURUHgRYwrPz"
   },
   "source": [
    "Surprisingly, logistic regression outperforms Random forest both in accuracy and speed of convergence. This is very good total accuracy (around 80% vs around 75%(RF)). \n",
    "\n",
    "This model achieve 82% on the public test set (Output from Kaggle).\n",
    "\n",
    "In addition, the model is quite robust (no overfitting) since it shows similar accuracies over the training,validation and test sets.\n",
    "\n",
    "Next, we use an ensemble learning technique to try to improve this classifier. The idea is training '*logisticRegr*' on different random subsets of the training set. \n",
    "\n",
    "For classification tasks, when all predictors are trained, the final prediction for an instance is simply an aggregation of the predictions of all predictors. The aggregation function is typically the statistical mode."
   ]
  },
  {
   "cell_type": "code",
   "execution_count": 0,
   "metadata": {
    "colab": {
     "base_uri": "https://localhost:8080/",
     "height": 34
    },
    "colab_type": "code",
    "executionInfo": {
     "elapsed": 3034535,
     "status": "ok",
     "timestamp": 1590470610919,
     "user": {
      "displayName": "Francesco Palermo",
      "photoUrl": "https://lh3.googleusercontent.com/a-/AOh14GjNvNe6zW5ch73bfx-ff4TcSLLAt7R3hytyKi8gng=s64",
      "userId": "14561537474749106550"
     },
     "user_tz": -600
    },
    "id": "ejqdLqD3vojq",
    "outputId": "e28baf29-c6e8-474f-f513-14800df30571"
   },
   "outputs": [
    {
     "name": "stdout",
     "output_type": "stream",
     "text": [
      "0:50:33.313740\n"
     ]
    }
   ],
   "source": [
    "#logistic regression bagging\n",
    "from sklearn.ensemble import BaggingClassifier\n",
    "startTime = datetime.now()\n",
    "bag_clf = BaggingClassifier(\n",
    "logisticRegr, n_estimators=100,\n",
    "max_samples=1000, bootstrap=True, n_jobs=-1)\n",
    "bag_clf.fit(X_train[0:10000], y_train[0:10000])\n",
    "print(datetime.now() - startTime)"
   ]
  },
  {
   "cell_type": "code",
   "execution_count": 0,
   "metadata": {
    "colab": {
     "base_uri": "https://localhost:8080/",
     "height": 34
    },
    "colab_type": "code",
    "executionInfo": {
     "elapsed": 3262493,
     "status": "ok",
     "timestamp": 1590470858256,
     "user": {
      "displayName": "Francesco Palermo",
      "photoUrl": "https://lh3.googleusercontent.com/a-/AOh14GjNvNe6zW5ch73bfx-ff4TcSLLAt7R3hytyKi8gng=s64",
      "userId": "14561537474749106550"
     },
     "user_tz": -600
    },
    "id": "Z3Z_BRpZwDBM",
    "outputId": "445297d7-46b6-421e-a6bc-2e250664d037"
   },
   "outputs": [
    {
     "name": "stdout",
     "output_type": "stream",
     "text": [
      "Validation Acc: 0.7612\n"
     ]
    }
   ],
   "source": [
    "#Evaluation of the model on training and validation\n",
    "y_pred_v=bag_clf.predict(X_val)\n",
    "print(\"Validation Acc:\",round(accuracy_score(y_val, y_pred_v),4))"
   ]
  },
  {
   "cell_type": "markdown",
   "metadata": {
    "colab_type": "text",
    "id": "w5XVvhDmrIAB"
   },
   "source": [
    "Although the validation accuracy is good, we were not able to improve the initial logistic regression performance. One reason can be the fact that we only use a partial dataset to fit the model (memory limitation). \n",
    "\n",
    "With unlimited memory space, this result might have been different."
   ]
  },
  {
   "cell_type": "markdown",
   "metadata": {
    "colab_type": "text",
    "id": "79a9UCULf8_H"
   },
   "source": [
    "#### Voting Classifier"
   ]
  },
  {
   "cell_type": "markdown",
   "metadata": {
    "colab_type": "text",
    "id": "KBl15HKBiB_9"
   },
   "source": [
    "We have trained few classifiers that have achieved accuracy between 75% to 80% (except Naive Bayes). The candidates classifiers are : **Decision Tree**, **Random Forest**, **Logistic Regression**. \n",
    "\n",
    "A well known way to create a better classifier is to aggregate the predictions of each classifier and predict the class that gets the most votes (ensemble methods). \n",
    "\n",
    "This majority-vote classifier\n",
    "is called a hard voting classifier.\n",
    "\n",
    "This method however works best when the candidate classifiers are independent to each other. Hence, we rule out Decision Tree given the strong connection with Random forest. "
   ]
  },
  {
   "cell_type": "code",
   "execution_count": 0,
   "metadata": {
    "colab": {},
    "colab_type": "code",
    "id": "hAQ8lVhaHmb8"
   },
   "outputs": [],
   "source": [
    "#VOTING CLASSIFIER\n",
    "from sklearn.ensemble import VotingClassifier\n",
    "#summary of the models\n",
    "rnd_clf = RandomForestClassifier(n_estimators=30,max_features=3000,min_samples_leaf=220,max_depth=8)\n",
    "logisticRegr = LogisticRegression(C=0.07, penalty='l2')\n",
    "#voting classifier\n",
    "voting_clf = VotingClassifier(\n",
    "estimators=[('lr', logisticRegr), ('rf', rnd_clf)],\n",
    "voting='hard')\n",
    "voting_clf.fit(X_train, y_train)"
   ]
  },
  {
   "cell_type": "code",
   "execution_count": 0,
   "metadata": {
    "colab": {
     "base_uri": "https://localhost:8080/",
     "height": 34
    },
    "colab_type": "code",
    "executionInfo": {
     "elapsed": 7795,
     "status": "ok",
     "timestamp": 1590588249258,
     "user": {
      "displayName": "Francesco Palermo",
      "photoUrl": "https://lh3.googleusercontent.com/a-/AOh14GjNvNe6zW5ch73bfx-ff4TcSLLAt7R3hytyKi8gng=s64",
      "userId": "14561537474749106550"
     },
     "user_tz": -600
    },
    "id": "OZAp-UdRFxQ5",
    "outputId": "254e269d-c093-458b-ec8e-1dc9048cd119"
   },
   "outputs": [
    {
     "name": "stdout",
     "output_type": "stream",
     "text": [
      "Training Acc: 0.793 Validation Acc: 0.7587\n"
     ]
    }
   ],
   "source": [
    "#Evaluation of the model on training and validation\n",
    "y_pred_t,y_pred_v=voting_clf.predict(X_train),voting_clf.predict(X_val)\n",
    "print(\"Training Acc:\",round(accuracy_score(y_train, y_pred_t),4),\"Validation Acc:\",round(accuracy_score(y_val, y_pred_v),4))"
   ]
  },
  {
   "cell_type": "markdown",
   "metadata": {
    "colab_type": "text",
    "id": "Le5OTddrgVv2"
   },
   "source": [
    "The accuracy of the individual models are:\n",
    "\n",
    "-- Random Forest 0.7575\n",
    "-- Logistic Regression 0.7963\n",
    "\n",
    "Unfortunatelly, the voting classifier did not bring any improvement in terms of the accuracy (0.7587)."
   ]
  },
  {
   "cell_type": "markdown",
   "metadata": {
    "colab_type": "text",
    "id": "bnCZcgcBH4Kc"
   },
   "source": [
    "#### SVM\n"
   ]
  },
  {
   "cell_type": "markdown",
   "metadata": {
    "colab_type": "text",
    "id": "sGEoeZdYH_YH"
   },
   "source": [
    "Next, a brief explanation of a support vector machine (SVM) is given.\n",
    "\n",
    "**SVM** uses non-linear (or linear) mapping to trasform the original training data into a higher dimention. Within the new dimention, it searches for the linear optimal separating hyperparameter.\n",
    "This can be considered as a decision boundary that separates tuples of one class to the other.\n",
    "\n",
    "Although his high accuracy, it is quite slow.\n",
    "\n",
    "Before fitting a model, let's fine tune the hyperparameters by using Randomized Search this time."
   ]
  },
  {
   "cell_type": "code",
   "execution_count": 0,
   "metadata": {
    "colab": {
     "base_uri": "https://localhost:8080/",
     "height": 34
    },
    "colab_type": "code",
    "executionInfo": {
     "elapsed": 1230662,
     "status": "ok",
     "timestamp": 1590547461725,
     "user": {
      "displayName": "Francesco Palermo",
      "photoUrl": "https://lh3.googleusercontent.com/a-/AOh14GjNvNe6zW5ch73bfx-ff4TcSLLAt7R3hytyKi8gng=s64",
      "userId": "14561537474749106550"
     },
     "user_tz": -600
    },
    "id": "I5SVBUG8IGqZ",
    "outputId": "d02fca57-4ce4-4166-cad9-70d2b5cee8c9"
   },
   "outputs": [
    {
     "data": {
      "text/plain": [
       "{'C': 10.28220625183238, 'gamma': 0.0018175149134189474}"
      ]
     },
     "execution_count": 32,
     "metadata": {
      "tags": []
     },
     "output_type": "execute_result"
    }
   ],
   "source": [
    "#Randomized Search for SVM\n",
    "from scipy.stats import reciprocal, uniform\n",
    "from sklearn.svm import SVC\n",
    "\n",
    "param_distributions = {\"gamma\": reciprocal(0.001, 0.1), \"C\": uniform(1, 10)}\n",
    "svm_clf = SVC(gamma=\"auto\")\n",
    "rnd_search_cv = RandomizedSearchCV(svm_clf, param_distributions, n_iter=10, verbose=False, cv=3)\n",
    "rnd_search_cv.fit(X_train[:2000], y_train[:2000])\n",
    "rnd_search_cv.best_params_"
   ]
  },
  {
   "cell_type": "markdown",
   "metadata": {
    "colab_type": "text",
    "id": "Uov5KjRLxQB6"
   },
   "source": [
    "The Randomized Search returns the following hyperparameters:\n",
    "\n",
    "\n",
    "1.   C= 10.28 : The regularization parameter\n",
    "2.   Gamma = 0.0018 : Kernel Coefficient\n",
    "\n"
   ]
  },
  {
   "cell_type": "code",
   "execution_count": 0,
   "metadata": {
    "colab": {
     "base_uri": "https://localhost:8080/",
     "height": 34
    },
    "colab_type": "code",
    "executionInfo": {
     "elapsed": 2646370,
     "status": "ok",
     "timestamp": 1590626103676,
     "user": {
      "displayName": "Francesco Palermo",
      "photoUrl": "https://lh3.googleusercontent.com/a-/AOh14GjNvNe6zW5ch73bfx-ff4TcSLLAt7R3hytyKi8gng=s64",
      "userId": "14561537474749106550"
     },
     "user_tz": -600
    },
    "id": "zRB3RjTRI1Eg",
    "outputId": "3c3384d5-85a7-4634-c5bd-b47d388a6dec"
   },
   "outputs": [
    {
     "name": "stdout",
     "output_type": "stream",
     "text": [
      "0:44:04.858156\n"
     ]
    }
   ],
   "source": [
    "#SVM\n",
    "from sklearn.svm import SVC\n",
    "startTime = datetime.now()\n",
    "svm_clf = SVC(C=10.28220625183238, gamma=0.0018175149134189474)\n",
    "svm_clf.fit(X_train[0:15000], y_train[0:15000])\n",
    "print(datetime.now() - startTime)\n"
   ]
  },
  {
   "cell_type": "code",
   "execution_count": 0,
   "metadata": {
    "colab": {
     "base_uri": "https://localhost:8080/",
     "height": 34
    },
    "colab_type": "code",
    "executionInfo": {
     "elapsed": 4141137,
     "status": "ok",
     "timestamp": 1590627601381,
     "user": {
      "displayName": "Francesco Palermo",
      "photoUrl": "https://lh3.googleusercontent.com/a-/AOh14GjNvNe6zW5ch73bfx-ff4TcSLLAt7R3hytyKi8gng=s64",
      "userId": "14561537474749106550"
     },
     "user_tz": -600
    },
    "id": "9Gcbr-BTJRkR",
    "outputId": "88f5b549-e38e-495e-a870-4faae56bc901"
   },
   "outputs": [
    {
     "name": "stdout",
     "output_type": "stream",
     "text": [
      "Validation Acc: 0.8184\n"
     ]
    }
   ],
   "source": [
    "#Evaluation of the model on training and validation\n",
    "y_pred_v=svm_clf.predict(X_val)\n",
    "print(\"Validation Acc:\",round(accuracy_score(y_val, y_pred_v),4))"
   ]
  },
  {
   "cell_type": "markdown",
   "metadata": {
    "colab_type": "text",
    "id": "ocbUkR9gAIjZ"
   },
   "source": [
    "Since SVM is quite slow for the whole dataset only a subset have been used. The time complexity of the model is not linear but rather quadratic, which makes almost impossible to train a model on such a large dataset.\n",
    "\n",
    "Despite this, SVM slightly outperforms Logistic Regression (our best second classifier)"
   ]
  },
  {
   "cell_type": "code",
   "execution_count": 0,
   "metadata": {
    "colab": {},
    "colab_type": "code",
    "id": "kKEc_-LZ6TgT"
   },
   "outputs": [],
   "source": [
    "y_pred=svm_clf.predict(X_test)\n",
    "print_csv()"
   ]
  },
  {
   "cell_type": "markdown",
   "metadata": {
    "colab_type": "text",
    "id": "YmL3rcJIcsqO"
   },
   "source": [
    "The SVM achieved the best total accuracy on the public test set so far (0.84). \n",
    "\n",
    "Given SVM is the best model so far, we will explore another performance measure: the confusion matrix. \n",
    "\n",
    "A confusion matrix is a table (4*4 for our task) used to describe the performance of a classier. Vertically we can see the predicted values, while horizontally the observed values are displayed (validation set).\n",
    "\n",
    "The goal of a classifier is having as many as observations in the diagonal, which means that the method in question correctly classify those tuples."
   ]
  },
  {
   "cell_type": "code",
   "execution_count": 0,
   "metadata": {
    "colab": {
     "base_uri": "https://localhost:8080/",
     "height": 173
    },
    "colab_type": "code",
    "executionInfo": {
     "elapsed": 855,
     "status": "ok",
     "timestamp": 1590629271986,
     "user": {
      "displayName": "Francesco Palermo",
      "photoUrl": "https://lh3.googleusercontent.com/a-/AOh14GjNvNe6zW5ch73bfx-ff4TcSLLAt7R3hytyKi8gng=s64",
      "userId": "14561537474749106550"
     },
     "user_tz": -600
    },
    "id": "ZjhQO2UHbYQU",
    "outputId": "d8dd8b0d-4538-4413-c9ee-48de4714e50f"
   },
   "outputs": [
    {
     "data": {
      "text/html": [
       "<div>\n",
       "<style scoped>\n",
       "    .dataframe tbody tr th:only-of-type {\n",
       "        vertical-align: middle;\n",
       "    }\n",
       "\n",
       "    .dataframe tbody tr th {\n",
       "        vertical-align: top;\n",
       "    }\n",
       "\n",
       "    .dataframe thead th {\n",
       "        text-align: right;\n",
       "    }\n",
       "</style>\n",
       "<table border=\"1\" class=\"dataframe\">\n",
       "  <thead>\n",
       "    <tr style=\"text-align: right;\">\n",
       "      <th></th>\n",
       "      <th>0</th>\n",
       "      <th>1</th>\n",
       "      <th>2</th>\n",
       "      <th>3</th>\n",
       "    </tr>\n",
       "  </thead>\n",
       "  <tbody>\n",
       "    <tr>\n",
       "      <th>0</th>\n",
       "      <td>3618</td>\n",
       "      <td>28</td>\n",
       "      <td>343</td>\n",
       "      <td>18</td>\n",
       "    </tr>\n",
       "    <tr>\n",
       "      <th>1</th>\n",
       "      <td>40</td>\n",
       "      <td>2484</td>\n",
       "      <td>278</td>\n",
       "      <td>50</td>\n",
       "    </tr>\n",
       "    <tr>\n",
       "      <th>2</th>\n",
       "      <td>862</td>\n",
       "      <td>263</td>\n",
       "      <td>3339</td>\n",
       "      <td>43</td>\n",
       "    </tr>\n",
       "    <tr>\n",
       "      <th>3</th>\n",
       "      <td>66</td>\n",
       "      <td>141</td>\n",
       "      <td>96</td>\n",
       "      <td>601</td>\n",
       "    </tr>\n",
       "  </tbody>\n",
       "</table>\n",
       "</div>"
      ],
      "text/plain": [
       "      0     1     2    3\n",
       "0  3618    28   343   18\n",
       "1    40  2484   278   50\n",
       "2   862   263  3339   43\n",
       "3    66   141    96  601"
      ]
     },
     "execution_count": 17,
     "metadata": {
      "tags": []
     },
     "output_type": "execute_result"
    }
   ],
   "source": [
    "#Since it is the best classifier let us evaluate the confusion matrix\n",
    "from sklearn.metrics import confusion_matrix\n",
    "labels = np.unique(y_val)\n",
    "a=confusion_matrix(y_val,y_pred_v,labels)\n",
    "pd.DataFrame(a, index=labels, columns=labels)"
   ]
  },
  {
   "cell_type": "markdown",
   "metadata": {
    "colab_type": "text",
    "id": "mM3A3oHw5JXq"
   },
   "source": [
    "According to the confusion matrix:\n",
    "\n",
    "\n",
    "1.   The individuals with black hair(0) are correctly classified with 0.90 chance\n",
    "2.  The individuals with brown hair(1) are correctly classified with 0.87 chance\n",
    "3. The individuals with blond hair(2) are correctly classified with 0.74 chance\n",
    "4. The individuals with grey hair(3) are correctly classified with 0.66 chance\n",
    "\n",
    "The SVM model \"suffers\" on classifying individuals with grey hair. It correctly classify 601 individuals, but for example, 141 individuals with grey hair have been missclassified to have brown hair.\n",
    "\n"
   ]
  },
  {
   "cell_type": "markdown",
   "metadata": {
    "colab_type": "text",
    "id": "hoLXAbAYgHbc"
   },
   "source": [
    "### Conclusion for conventional ML algoritms"
   ]
  },
  {
   "cell_type": "markdown",
   "metadata": {
    "colab_type": "text",
    "id": "UTVREtEvlI3A"
   },
   "source": [
    "We have shown some of the most successful conventional machine learning methods. Distance based methods such as *knn* have not been covered. This is because these algorithms relies on multidimentional distance between records and this may result to be too computational costly.\n",
    "\n",
    "**The model who achieves the best accuracy on the public test set is SVM with 0.84036.** This is an incredible outcome considering that we started with a model who achieve 0.50 (Naive Bayes) and considering the fact that we only train on 15000 records which makes up only 15% of the whole dataset.\n",
    "\n",
    "A summary of the applied methods and their performances (on validation set) have been shown:\n",
    "\n",
    "---Naive Bayes           0.5042\n",
    "\n",
    "-- Decision Tree         0.7186\n",
    "\n",
    "-- Random Forest         0.7575\n",
    "\n",
    "-- Logistic Regression   0.7963\n",
    "\n",
    "-- Voting Classifier     0.7587\n",
    "\n",
    "-- SVM                   0.8184\n",
    "\n",
    "In conclusion, some comments on possible feature works are described below:\n",
    "\n",
    "*   With better hardware capabilities, it would be interesting seeing the behaviour of SVM on the whole dataset.\n",
    "\n",
    "*   If the above point could be achieved, a voting classifier among the best 3 methods might improve the performance of the best individual technique.\n",
    "\n",
    "*   Feature selection might have been applied by using only those pixels that resulted to be important (See Random Forest, Feauture importance). This would have reduce the speed of the algorithm and perhaps improve classification accuracies.\n",
    "\n",
    "*   The hypothesis made at the begin of this notebook have been satisfied. Hence, the avalaible data is adequately informative to learn the relationship between inputs and outputs.\n",
    "\n",
    "\n",
    "\n"
   ]
  },
  {
   "cell_type": "markdown",
   "metadata": {
    "colab_type": "text",
    "id": "q5CJfUvxwO8f"
   },
   "source": [
    "##  Deep learning learning techniques for image dataset"
   ]
  },
  {
   "cell_type": "markdown",
   "metadata": {
    "colab_type": "text",
    "id": "q59e0c95wWEx"
   },
   "source": [
    "In the previuos part of the notebook we have seen how SVM was the best model in terms of performance.\n",
    "\n",
    "-- SVM Val_Accuracy 0.8184\n",
    "\n",
    "-- SVM Public_Test_Accuracy 0.8404\n",
    "\n",
    "This second part of the notebook aims to illustrate some of the deep learning machine learning algorithms in regards to a computer vision task. \n",
    "\n",
    "To achieve this, we are going to work with the CelebA dataset, a widely used dataset of celebrity faces. The goal is to predict the hair colour of the celebrity, which will be one of the following classes: black, brown, blond or gray.\n",
    "\n",
    "The provided input are images which consists in 4d tensors. Images usually have 3 dimensions: height, width and color depth. In particular, a certain sample comprises:\n",
    "\n",
    "(n, 48, 48, 3)\n",
    "\n",
    "where n indicates the number of records in that particular data batch.\n",
    "\n",
    "The problem we are facing is **multiclass classification**.\n",
    "\n",
    "Our measure of success will be **total accuracy**, which will tell us how many images the model is able to correctly classify once some unseen data is avalaible.\n",
    "\n",
    "Before moving to the next step, it is important to declare the following two hypothesis:\n",
    "\n",
    "*   The hair colour can be predicted given my inputs.\n",
    "*   The avalaible data is adequately informative to learn the relationship between inputs and outputs.\n",
    "\n"
   ]
  },
  {
   "cell_type": "markdown",
   "metadata": {
    "colab_type": "text",
    "id": "lDXqEKgAwoKG"
   },
   "source": [
    "### Preparing the data"
   ]
  },
  {
   "cell_type": "markdown",
   "metadata": {
    "colab_type": "text",
    "id": "T_dOybMpw0jn"
   },
   "source": [
    "The following libraries will be important throughout the notebook. \n",
    "\n",
    "In particular, Keras will be essential for building deep learning models."
   ]
  },
  {
   "cell_type": "code",
   "execution_count": 0,
   "metadata": {
    "colab": {},
    "colab_type": "code",
    "id": "cgO4RtXVw_75"
   },
   "outputs": [],
   "source": [
    "# Common imports\n",
    "import numpy as np\n",
    "import os\n",
    "from os.path import join\n",
    "import pandas as pd\n",
    "from sklearn.metrics import accuracy_score\n",
    "import matplotlib as mpl\n",
    "import matplotlib.pyplot as plt\n",
    "import collections\n",
    "import keras\n",
    "from keras import models\n",
    "from keras import layers\n",
    "%matplotlib inline"
   ]
  },
  {
   "cell_type": "markdown",
   "metadata": {
    "colab_type": "text",
    "id": "ZoYowVcuyp6x"
   },
   "source": [
    "### Deep learning methods"
   ]
  },
  {
   "cell_type": "markdown",
   "metadata": {
    "colab_type": "text",
    "id": "9oOrRwt6yu7o"
   },
   "source": [
    "Before developing any sofisticated technique, a baseline model need to be built.\n",
    "\n",
    "We need to create models that achieve statistical power, or in other words, that do better than the baseline (dumb) model."
   ]
  },
  {
   "cell_type": "code",
   "execution_count": 0,
   "metadata": {
    "colab": {
     "base_uri": "https://localhost:8080/",
     "height": 34
    },
    "colab_type": "code",
    "executionInfo": {
     "elapsed": 1093,
     "status": "ok",
     "timestamp": 1590969977785,
     "user": {
      "displayName": "Francesco Palermo",
      "photoUrl": "https://lh3.googleusercontent.com/a-/AOh14GjNvNe6zW5ch73bfx-ff4TcSLLAt7R3hytyKi8gng=s64",
      "userId": "14561537474749106550"
     },
     "user_tz": -600
    },
    "id": "oXvT51xS0Xr-",
    "outputId": "a9740e7c-637d-4ecc-bc5c-181580ecb6b0"
   },
   "outputs": [
    {
     "data": {
      "text/plain": [
       "0.3055169122350958"
      ]
     },
     "execution_count": 6,
     "metadata": {
      "tags": []
     },
     "output_type": "execute_result"
    }
   ],
   "source": [
    "#BASELINE MODEL\n",
    "import copy\n",
    "train_label_copy = copy.copy(y_train)\n",
    "np.random.shuffle(train_label_copy)\n",
    "hits_array=np.array(y_train) == np.array(train_label_copy)\n",
    "float(np.sum(hits_array)/len(y_train))"
   ]
  },
  {
   "cell_type": "markdown",
   "metadata": {
    "colab_type": "text",
    "id": "6GVHpwrB3Qm4"
   },
   "source": [
    "Any models that achieve a total accuracy higher than around 0.31 can be said to achieve statistical power. If this happens, our hypothesis made above will be valid (\"the output can be explained by the avalaible input\")\n",
    "\n",
    "The goal, of course, is to create models that can do much better than that. In other words, methods that achieve high total accuracy as well as being robust.\n",
    "\n",
    "A model is defined as robust if the total accuracy over training,validation and test set is similar."
   ]
  },
  {
   "cell_type": "markdown",
   "metadata": {
    "colab_type": "text",
    "id": "SaU1szVW79jd"
   },
   "source": [
    "Before training Basic Neural Network, we need to further pre-process the data by reshaping it into a shape that it can pre-process.\n",
    "\n",
    "We also need to categorically encode the labels. Keras has a built in function that take care of it."
   ]
  },
  {
   "cell_type": "code",
   "execution_count": 5,
   "metadata": {
    "colab": {
     "base_uri": "https://localhost:8080/",
     "height": 34
    },
    "colab_type": "code",
    "executionInfo": {
     "elapsed": 1166,
     "status": "ok",
     "timestamp": 1590990685042,
     "user": {
      "displayName": "Francesco Palermo",
      "photoUrl": "",
      "userId": "11834492980548815371"
     },
     "user_tz": -600
    },
    "id": "p5uZyrPu7kC9",
    "outputId": "85f209e3-eec7-4939-b9aa-5819dea3b656"
   },
   "outputs": [
    {
     "data": {
      "text/plain": [
       "(98479, 4)"
      ]
     },
     "execution_count": 5,
     "metadata": {
      "tags": []
     },
     "output_type": "execute_result"
    }
   ],
   "source": [
    "from keras.utils import to_categorical\n",
    "#predictors\n",
    "X_train_nn =np.reshape(X_train, (X_train.shape[0],6912))\n",
    "X_val_nn =np.reshape(X_val, (X_val.shape[0],6912))\n",
    "X_test_nn =np.reshape(X_test, (X_test.shape[0],6912))\n",
    "#labels\n",
    "y_train = to_categorical(y_train)\n",
    "y_val = to_categorical(y_val)\n",
    "y_train.shape"
   ]
  },
  {
   "cell_type": "markdown",
   "metadata": {
    "colab_type": "text",
    "id": "Qhc3nLhO3sKo"
   },
   "source": [
    "#### Basic Neural Network"
   ]
  },
  {
   "cell_type": "markdown",
   "metadata": {
    "colab_type": "text",
    "id": "dg8TZt9Z3x69"
   },
   "source": [
    "The first **Neural network** is the easiest setup we can create.\n",
    "\n",
    "We are going to model a simple stack of fully connected (Dense) layers with *'relu'* as activation function. The value that we pass to each dense layer indicates the number of hidden units of the layer.\n",
    "\n",
    "After briefly fine tuning the network, by changing the number of hidden units, the number of layers and the learning rate of the optimizer, the more accurate solution seems to be the following.\n",
    "\n",
    "The following structure consists in 3 layers:\n",
    "\n",
    "1.   Input layer\n",
    "2.   Hidden layer\n",
    "3.   Output layer\n",
    "\n",
    "The output layer is a 4-way *softmax* layer. It will return an array of 4 probability scores for each record.\n",
    "Each picture will be assigned with the class who records the highest probability.\n",
    "\n"
   ]
  },
  {
   "cell_type": "code",
   "execution_count": 0,
   "metadata": {
    "colab": {},
    "colab_type": "code",
    "id": "vL1ONX1Z3yH3"
   },
   "outputs": [],
   "source": [
    "#model definition\n",
    "model= models.Sequential()\n",
    "model.add(layers.Dense(32, activation='relu',input_shape=(48*48*3,)))\n",
    "model.add(layers.Dense(16,activation='relu'))\n",
    "model.add(layers.Dense(4,activation='softmax'))"
   ]
  },
  {
   "cell_type": "markdown",
   "metadata": {
    "colab_type": "text",
    "id": "pi-YaMNrYJLX"
   },
   "source": [
    "Once the model has been defined, we need to compile it.\n",
    "\n",
    "Since it is a multiclass, single label classification the appropriate ***loss function*** is  'categorical_crossentropy'. This function measures the distance between the probability distribution outcome by the network and the true distrubution by the labels.\n",
    "\n",
    "As we have stated in the introduction, the ***metric*** used is the total accuracy.\n",
    "\n",
    "Finally, an **optimizer**, which is the mechanism used by the neural networks to update the weights based on the data, has been choosen as *adam*. \n",
    "\n"
   ]
  },
  {
   "cell_type": "code",
   "execution_count": 0,
   "metadata": {
    "colab": {},
    "colab_type": "code",
    "id": "IDcZS7iG5sPc"
   },
   "outputs": [],
   "source": [
    "#Compiling the model\n",
    "model.compile(optimizer='adam', loss='categorical_crossentropy', metrics =['accuracy'])"
   ]
  },
  {
   "cell_type": "markdown",
   "metadata": {
    "colab_type": "text",
    "id": "ie5UrA1kcHre"
   },
   "source": [
    "We are now ready to train the model."
   ]
  },
  {
   "cell_type": "code",
   "execution_count": 0,
   "metadata": {
    "colab": {},
    "colab_type": "code",
    "id": "7JAM2MwL6N0w"
   },
   "outputs": [],
   "source": [
    "#Training the model\n",
    "history=model.fit(X_train_nn,y_train,\n",
    "        epochs = 20,\n",
    "        batch_size = 64,\n",
    "        verbose=False,\n",
    "        validation_data = (X_val_nn,y_val) )"
   ]
  },
  {
   "cell_type": "code",
   "execution_count": 0,
   "metadata": {
    "colab": {
     "base_uri": "https://localhost:8080/",
     "height": 295
    },
    "colab_type": "code",
    "executionInfo": {
     "elapsed": 137566,
     "status": "ok",
     "timestamp": 1590971126508,
     "user": {
      "displayName": "Francesco Palermo",
      "photoUrl": "https://lh3.googleusercontent.com/a-/AOh14GjNvNe6zW5ch73bfx-ff4TcSLLAt7R3hytyKi8gng=s64",
      "userId": "14561537474749106550"
     },
     "user_tz": -600
    },
    "id": "g6pTOMnlx3RL",
    "outputId": "d72dcdff-2a87-4962-a944-86177bd962e1"
   },
   "outputs": [
    {
     "data": {
      "image/png": "[encoded data removed]",
      "text/plain": [
       "<Figure size 432x288 with 1 Axes>"
      ]
     },
     "metadata": {
      "needs_background": "light",
      "tags": []
     },
     "output_type": "display_data"
    }
   ],
   "source": [
    "train_val_accur(history)"
   ]
  },
  {
   "cell_type": "markdown",
   "metadata": {
    "colab_type": "text",
    "id": "7EO49HpazUvQ"
   },
   "source": [
    "It is always important to monitor training and validation accuracy. This make sure too see the behaviour of the model over the epochs.\n",
    "\n",
    "According to the chart above, the validation accuracy seems to reach its maximum around 19 epochs and then decay. \n",
    "\n",
    "Let us train a new model from scratch by using only 19 epochs."
   ]
  },
  {
   "cell_type": "code",
   "execution_count": 0,
   "metadata": {
    "colab": {},
    "colab_type": "code",
    "id": "w7WwXxicQuuc"
   },
   "outputs": [],
   "source": [
    "#model definition\n",
    "model= models.Sequential()\n",
    "model.add(layers.Dense(32, activation='relu',input_shape=(48*48*3,)))\n",
    "model.add(layers.Dense(16,activation='relu'))\n",
    "model.add(layers.Dense(4,activation='softmax'))\n",
    "#Compiling the model\n",
    "model.compile(optimizer='adam', loss='categorical_crossentropy', metrics =['accuracy'])"
   ]
  },
  {
   "cell_type": "code",
   "execution_count": 0,
   "metadata": {
    "colab": {},
    "colab_type": "code",
    "id": "rWurSINH2V6U"
   },
   "outputs": [],
   "source": [
    "#Training the model\n",
    "history=model.fit(X_train_nn,y_train,\n",
    "        epochs = 19,\n",
    "        batch_size = 64,\n",
    "        verbose=False,\n",
    "        validation_data = (X_val_nn,y_val) )"
   ]
  },
  {
   "cell_type": "code",
   "execution_count": 0,
   "metadata": {
    "colab": {
     "base_uri": "https://localhost:8080/",
     "height": 85
    },
    "colab_type": "code",
    "executionInfo": {
     "elapsed": 142542,
     "status": "ok",
     "timestamp": 1590971582309,
     "user": {
      "displayName": "Francesco Palermo",
      "photoUrl": "https://lh3.googleusercontent.com/a-/AOh14GjNvNe6zW5ch73bfx-ff4TcSLLAt7R3hytyKi8gng=s64",
      "userId": "14561537474749106550"
     },
     "user_tz": -600
    },
    "id": "8TpyzaLqKo5t",
    "outputId": "346631e2-b56d-4949-d707-45b2be85a0b8"
   },
   "outputs": [
    {
     "name": "stdout",
     "output_type": "stream",
     "text": [
      "98479/98479 [==============================] - 8s 77us/step\n",
      "12270/12270 [==============================] - 1s 75us/step\n",
      "The accuracy in the training set is 0.8538063764572144\n",
      "The accuracy in the validation set is 0.8399348258972168\n"
     ]
    }
   ],
   "source": [
    "results_train = model.evaluate(X_train_nn,y_train)\n",
    "results_eval = model.evaluate(X_val_nn,y_val)\n",
    "print(\"The accuracy in the training set is\",results_train[1])\n",
    "print(\"The accuracy in the validation set is\",results_eval[1])\n"
   ]
  },
  {
   "cell_type": "markdown",
   "metadata": {
    "colab_type": "text",
    "id": "xwuPmMV4AVle"
   },
   "source": [
    "This new approach reaches a totally accuracy in the validation set of around 0.84 which is already a better performance comparing the best model created with conventional machine learning SVM *val_accuracy* 0.8184."
   ]
  },
  {
   "cell_type": "code",
   "execution_count": 0,
   "metadata": {
    "colab": {},
    "colab_type": "code",
    "id": "BIZJO2tfBiFS"
   },
   "outputs": [],
   "source": [
    "y_pred_proba=model.predict(X_test_nn)\n",
    "y_pred=np.argmax(y_pred_proba,axis=1)\n",
    "print_csv() "
   ]
  },
  {
   "cell_type": "markdown",
   "metadata": {
    "colab_type": "text",
    "id": "nTyktQxsLMUP"
   },
   "source": [
    "Finally, the result on the public test set is 0.8450 which is very good. No regularization techniques have been applied given that the model is not overfitting.\n",
    "\n",
    "Next, different versions of convolutional neural networks will be applied to see if we can improve this result."
   ]
  },
  {
   "cell_type": "markdown",
   "metadata": {
    "colab_type": "text",
    "id": "tHDiYoLVXVDx"
   },
   "source": [
    "#### Convolutional Neural Network (CNN)"
   ]
  },
  {
   "cell_type": "markdown",
   "metadata": {
    "colab_type": "text",
    "id": "2I5nsd39Xg3A"
   },
   "source": [
    "**Convolutional Neural Networks (*CNN*)** have been really successfull in the recent years in computer vision problems.\n",
    "\n",
    "The first *CNN* will be built from scratch. We will see later how it is possible to use a pretrained network to try improving total accuracy.\n",
    "\n",
    "The typical structure of a CNN consists in a sequence of *Conv2D* and *Maxpooling 2D* with a simple stack of fully connected (Dense) layers at the end.\n",
    "\n",
    "It is important to understand the sense of this structure.\n",
    "The main goal is reducing the dimensionality of the images and identify local patterns related to each class.\n",
    "\n",
    "For example, the first convolutional level contains a convolutional layer “Conv2D” and a “MaxPooling2D” layer. \n",
    "\n",
    "The convolutional layer uses 32, 3 by 3 pixel filters that are applied to each part of the image. The output of this layer is a 32 dimensional arrays of activation values, also known as feature maps. \n",
    "\n",
    "The consecutive max pooling layer downsample feature maps. The size of feature maps is halved after each max pooling2D layer.\n",
    "\n",
    "Finally, Dense layers are attached, and a 4-way softmax layer\n"
   ]
  },
  {
   "cell_type": "code",
   "execution_count": 14,
   "metadata": {
    "colab": {
     "base_uri": "https://localhost:8080/",
     "height": 697
    },
    "colab_type": "code",
    "executionInfo": {
     "elapsed": 1191,
     "status": "ok",
     "timestamp": 1590992780926,
     "user": {
      "displayName": "Francesco Palermo",
      "photoUrl": "",
      "userId": "11834492980548815371"
     },
     "user_tz": -600
    },
    "id": "yQhMWPCeXkAV",
    "outputId": "ed2aa1fd-48b2-4946-b933-4c4a0b22c877"
   },
   "outputs": [
    {
     "name": "stdout",
     "output_type": "stream",
     "text": [
      "Model: \"sequential_2\"\n",
      "_________________________________________________________________\n",
      "Layer (type)                 Output Shape              Param #   \n",
      "=================================================================\n",
      "conv2d_6 (Conv2D)            (None, 46, 46, 32)        896       \n",
      "_________________________________________________________________\n",
      "conv2d_7 (Conv2D)            (None, 44, 44, 32)        9248      \n",
      "_________________________________________________________________\n",
      "max_pooling2d_4 (MaxPooling2 (None, 22, 22, 32)        0         \n",
      "_________________________________________________________________\n",
      "dropout_4 (Dropout)          (None, 22, 22, 32)        0         \n",
      "_________________________________________________________________\n",
      "conv2d_8 (Conv2D)            (None, 20, 20, 64)        18496     \n",
      "_________________________________________________________________\n",
      "conv2d_9 (Conv2D)            (None, 18, 18, 64)        36928     \n",
      "_________________________________________________________________\n",
      "max_pooling2d_5 (MaxPooling2 (None, 9, 9, 64)          0         \n",
      "_________________________________________________________________\n",
      "dropout_5 (Dropout)          (None, 9, 9, 64)          0         \n",
      "_________________________________________________________________\n",
      "conv2d_10 (Conv2D)           (None, 7, 7, 128)         73856     \n",
      "_________________________________________________________________\n",
      "max_pooling2d_6 (MaxPooling2 (None, 3, 3, 128)         0         \n",
      "_________________________________________________________________\n",
      "dropout_6 (Dropout)          (None, 3, 3, 128)         0         \n",
      "_________________________________________________________________\n",
      "flatten_2 (Flatten)          (None, 1152)              0         \n",
      "_________________________________________________________________\n",
      "dense_4 (Dense)              (None, 128)               147584    \n",
      "_________________________________________________________________\n",
      "dense_5 (Dense)              (None, 32)                4128      \n",
      "_________________________________________________________________\n",
      "batch_normalization_2 (Batch (None, 32)                128       \n",
      "_________________________________________________________________\n",
      "dense_6 (Dense)              (None, 4)                 132       \n",
      "=================================================================\n",
      "Total params: 291,396\n",
      "Trainable params: 291,332\n",
      "Non-trainable params: 64\n",
      "_________________________________________________________________\n"
     ]
    }
   ],
   "source": [
    "from keras import layers\n",
    "from keras import models\n",
    "\n",
    "model2 = models.Sequential()\n",
    "model2.add(layers.Conv2D(32, (3, 3), activation='relu', input_shape=(48, 48, 3)))\n",
    "model2.add(layers.Conv2D(32, (3, 3), activation='relu', input_shape=(48, 48, 3)))\n",
    "model2.add(layers.MaxPooling2D((2, 2)))\n",
    "model2.add(layers.Dropout(0.30))\n",
    "\n",
    "model2.add(layers.Conv2D(64, (3, 3), activation='relu'))\n",
    "model2.add(layers.Conv2D(64, (3, 3), activation='relu'))\n",
    "model2.add(layers.MaxPooling2D((2, 2)))\n",
    "model2.add(layers.Dropout(0.15))\n",
    "\n",
    "model2.add(layers.Conv2D(128, (3, 3), activation='relu'))\n",
    "model2.add(layers.MaxPooling2D((2, 2)))\n",
    "model2.add(layers.Dropout(0.15))\n",
    "model2.add(layers.Flatten())\n",
    "\n",
    "model2.add(layers.Dense(128, activation='relu'))\n",
    "model2.add(layers.Dense(32, activation='relu'))\n",
    "model2.add(layers.BatchNormalization())\n",
    "model2.add(layers.Dense(4, activation='softmax'))\n",
    "model2.summary()\n"
   ]
  },
  {
   "cell_type": "markdown",
   "metadata": {
    "colab_type": "text",
    "id": "Km_XxlwiMe2d"
   },
   "source": [
    "First attempts of this model above have shown overfitting. \n",
    "\n",
    "This is why, *Dropout* has been added as regularization technique. This allows a model to not overfit.\n",
    "\n",
    "I also added a *batch normalization* layer, that guarantees activation values from the previous dense layers to have the same scale for each batch by converting them to Z-scores.\n",
    "\n",
    "Next, we need to compile the model. A smaller *learning rate* than the default one from *Adam* (*lr* =0.001) seems like bringing higher accuracy.\n",
    "\n"
   ]
  },
  {
   "cell_type": "code",
   "execution_count": 0,
   "metadata": {
    "colab": {},
    "colab_type": "code",
    "id": "0rlNK2dRYVp_"
   },
   "outputs": [],
   "source": [
    "#Compiling the model\n",
    "opt = keras.optimizers.Adam(learning_rate=0.00013)\n",
    "model2.compile(optimizer=opt, loss='categorical_crossentropy', metrics =['accuracy'])"
   ]
  },
  {
   "cell_type": "code",
   "execution_count": 16,
   "metadata": {
    "colab": {
     "base_uri": "https://localhost:8080/",
     "height": 734
    },
    "colab_type": "code",
    "executionInfo": {
     "elapsed": 548889,
     "status": "ok",
     "timestamp": 1590993336280,
     "user": {
      "displayName": "Francesco Palermo",
      "photoUrl": "",
      "userId": "11834492980548815371"
     },
     "user_tz": -600
    },
    "id": "Ski-IFTyYWpC",
    "outputId": "26e27254-eeb4-4d64-b0f8-8470b7f83d4f"
   },
   "outputs": [
    {
     "name": "stdout",
     "output_type": "stream",
     "text": [
      "Train on 98479 samples, validate on 12270 samples\n",
      "Epoch 1/20\n",
      "98479/98479 [==============================] - 28s 280us/step - loss: 0.5172 - accuracy: 0.8066 - val_loss: 0.4060 - val_accuracy: 0.8469\n",
      "Epoch 2/20\n",
      "98479/98479 [==============================] - 27s 273us/step - loss: 0.3454 - accuracy: 0.8729 - val_loss: 0.2938 - val_accuracy: 0.8901\n",
      "Epoch 3/20\n",
      "98479/98479 [==============================] - 27s 277us/step - loss: 0.3034 - accuracy: 0.8882 - val_loss: 0.2871 - val_accuracy: 0.8953\n",
      "Epoch 4/20\n",
      "98479/98479 [==============================] - 27s 276us/step - loss: 0.2843 - accuracy: 0.8954 - val_loss: 0.2606 - val_accuracy: 0.9042\n",
      "Epoch 5/20\n",
      "98479/98479 [==============================] - 27s 273us/step - loss: 0.2707 - accuracy: 0.9000 - val_loss: 0.2557 - val_accuracy: 0.9022\n",
      "Epoch 6/20\n",
      "98479/98479 [==============================] - 27s 278us/step - loss: 0.2573 - accuracy: 0.9047 - val_loss: 0.2496 - val_accuracy: 0.9078\n",
      "Epoch 7/20\n",
      "98479/98479 [==============================] - 28s 286us/step - loss: 0.2484 - accuracy: 0.9099 - val_loss: 0.2428 - val_accuracy: 0.9086\n",
      "Epoch 8/20\n",
      "98479/98479 [==============================] - 28s 283us/step - loss: 0.2402 - accuracy: 0.9128 - val_loss: 0.2349 - val_accuracy: 0.9109\n",
      "Epoch 9/20\n",
      "98479/98479 [==============================] - 27s 279us/step - loss: 0.2333 - accuracy: 0.9136 - val_loss: 0.2331 - val_accuracy: 0.9136\n",
      "Epoch 10/20\n",
      "98479/98479 [==============================] - 27s 277us/step - loss: 0.2267 - accuracy: 0.9164 - val_loss: 0.2260 - val_accuracy: 0.9135\n",
      "Epoch 11/20\n",
      "98479/98479 [==============================] - 27s 276us/step - loss: 0.2197 - accuracy: 0.9187 - val_loss: 0.2403 - val_accuracy: 0.9111\n",
      "Epoch 12/20\n",
      "98479/98479 [==============================] - 27s 277us/step - loss: 0.2164 - accuracy: 0.9207 - val_loss: 0.2148 - val_accuracy: 0.9193\n",
      "Epoch 13/20\n",
      "98479/98479 [==============================] - 27s 276us/step - loss: 0.2094 - accuracy: 0.9233 - val_loss: 0.2251 - val_accuracy: 0.9142\n",
      "Epoch 14/20\n",
      "98479/98479 [==============================] - 27s 276us/step - loss: 0.2049 - accuracy: 0.9242 - val_loss: 0.2334 - val_accuracy: 0.9114\n",
      "Epoch 15/20\n",
      "98479/98479 [==============================] - 28s 282us/step - loss: 0.2007 - accuracy: 0.9256 - val_loss: 0.2309 - val_accuracy: 0.9136\n",
      "Epoch 16/20\n",
      "98479/98479 [==============================] - 27s 276us/step - loss: 0.1973 - accuracy: 0.9269 - val_loss: 0.2229 - val_accuracy: 0.9154\n",
      "Epoch 17/20\n",
      "98479/98479 [==============================] - 27s 275us/step - loss: 0.1933 - accuracy: 0.9290 - val_loss: 0.2303 - val_accuracy: 0.9150\n",
      "Epoch 18/20\n",
      "98479/98479 [==============================] - 27s 278us/step - loss: 0.1910 - accuracy: 0.9298 - val_loss: 0.2294 - val_accuracy: 0.9134\n",
      "Epoch 19/20\n",
      "98479/98479 [==============================] - 27s 275us/step - loss: 0.1865 - accuracy: 0.9315 - val_loss: 0.2256 - val_accuracy: 0.9181\n",
      "Epoch 20/20\n",
      "98479/98479 [==============================] - 27s 275us/step - loss: 0.1817 - accuracy: 0.9331 - val_loss: 0.2161 - val_accuracy: 0.9188\n"
     ]
    }
   ],
   "source": [
    "#Training the model\n",
    "history2=model2.fit(X_train,y_train,\n",
    "        epochs = 20,\n",
    "        batch_size = 32,\n",
    "        verbose=True,\n",
    "        validation_data = (X_val,y_val) )"
   ]
  },
  {
   "cell_type": "code",
   "execution_count": 13,
   "metadata": {
    "colab": {
     "base_uri": "https://localhost:8080/",
     "height": 295
    },
    "colab_type": "code",
    "executionInfo": {
     "elapsed": 555220,
     "status": "ok",
     "timestamp": 1590976794327,
     "user": {
      "displayName": "Francesco Palermo",
      "photoUrl": "",
      "userId": "11834492980548815371"
     },
     "user_tz": -600
    },
    "id": "CyOAIbOibdfC",
    "outputId": "adc77543-1e1e-4693-be99-e16a58ce0c1d"
   },
   "outputs": [
    {
     "data": {
      "image/png": "[encoded data removed]",
      "text/plain": [
       "<Figure size 432x288 with 1 Axes>"
      ]
     },
     "metadata": {
      "needs_background": "light",
      "tags": []
     },
     "output_type": "display_data"
    }
   ],
   "source": [
    "train_val_accur(history2)"
   ]
  },
  {
   "cell_type": "markdown",
   "metadata": {
    "colab_type": "text",
    "id": "rSaJ4XmtNbUl"
   },
   "source": [
    "Validation accuracy looks like increase until around 13 epochs, and then it plateaus.\n"
   ]
  },
  {
   "cell_type": "code",
   "execution_count": 14,
   "metadata": {
    "colab": {
     "base_uri": "https://localhost:8080/",
     "height": 85
    },
    "colab_type": "code",
    "executionInfo": {
     "elapsed": 13941,
     "status": "ok",
     "timestamp": 1590976940450,
     "user": {
      "displayName": "Francesco Palermo",
      "photoUrl": "",
      "userId": "11834492980548815371"
     },
     "user_tz": -600
    },
    "id": "QQYtNS7ObiFv",
    "outputId": "621f4aac-cdfd-487e-ac7f-712640e9c974"
   },
   "outputs": [
    {
     "name": "stdout",
     "output_type": "stream",
     "text": [
      "98479/98479 [==============================] - 12s 120us/step\n",
      "12270/12270 [==============================] - 1s 122us/step\n",
      "The accuracy in the training set is 0.9577879309654236\n",
      "The accuracy in the validation set is 0.918907880783081\n"
     ]
    }
   ],
   "source": [
    "results_train = model2.evaluate(X_train,y_train)\n",
    "results_eval = model2.evaluate(X_val,y_val)\n",
    "print(\"The accuracy in the training set is\",results_train[1])\n",
    "print(\"The accuracy in the validation set is\",results_eval[1])"
   ]
  },
  {
   "cell_type": "markdown",
   "metadata": {
    "colab_type": "text",
    "id": "SZh3FL9qOKwr"
   },
   "source": [
    "We have reached almost 92% accuracy on validation set. This is a great result. This is a strong sign that CNN will outperform Basin NN in the public test set."
   ]
  },
  {
   "cell_type": "code",
   "execution_count": 47,
   "metadata": {
    "colab": {
     "base_uri": "https://localhost:8080/",
     "height": 85
    },
    "colab_type": "code",
    "executionInfo": {
     "elapsed": 14015,
     "status": "ok",
     "timestamp": 1590994931871,
     "user": {
      "displayName": "Francesco Palermo",
      "photoUrl": "",
      "userId": "11834492980548815371"
     },
     "user_tz": -600
    },
    "id": "pr01Zyu7r8PN",
    "outputId": "8614fe9a-84bd-4a07-b2e7-971b277b20d6"
   },
   "outputs": [
    {
     "name": "stdout",
     "output_type": "stream",
     "text": [
      "98479/98479 [==============================] - 12s 118us/step\n",
      "12270/12270 [==============================] - 1s 120us/step\n",
      "The accuracy in the training set is 0.9494917988777161\n",
      "The accuracy in the validation set is 0.9188264012336731\n"
     ]
    }
   ],
   "source": [
    "results_train = model2.evaluate(X_train,y_train)\n",
    "results_eval = model2.evaluate(X_val,y_val)\n",
    "print(\"The accuracy in the training set is\",results_train[1])\n",
    "print(\"The accuracy in the validation set is\",results_eval[1])"
   ]
  },
  {
   "cell_type": "code",
   "execution_count": 0,
   "metadata": {
    "colab": {},
    "colab_type": "code",
    "id": "EJ-FEmzqpd3q"
   },
   "outputs": [],
   "source": [
    "y_pred_proba=model2.predict(X_test_priv)\n",
    "y_pred=np.argmax(y_pred_proba,axis=1)\n",
    "print_csv()"
   ]
  },
  {
   "cell_type": "markdown",
   "metadata": {
    "colab_type": "text",
    "id": "RbtMwqOIOjab"
   },
   "source": [
    "As expected, the totaly accuracy on the *public test set* has increased and it reached 0.92869. \n",
    "\n",
    "This model above reacheas an accuracy of 0.6312 on the *private test set*. \n",
    "\n",
    "This drop can be caused by some noise in the given private test set."
   ]
  },
  {
   "cell_type": "markdown",
   "metadata": {
    "colab_type": "text",
    "id": "STVDKxDsO-us"
   },
   "source": [
    "#### CNN with data augmentation"
   ]
  },
  {
   "cell_type": "markdown",
   "metadata": {
    "colab_type": "text",
    "id": "Pm7foW1zPEei"
   },
   "source": [
    "**Data augmentation** is a method that is used to artificially extend the size of a training dataset by creating transformed versions of images in the dataset.\n",
    "\n",
    "It is very efficient especially when the avalaible dataset is small. This is not exacly our situation, however we check how it performs on a medium size dataset.\n",
    "\n",
    "It generates more training data from existing training samples, by augmenting the images through a number of random tranformation that yield \"similar\" credible images.\n",
    "\n",
    "The objective is that during the training, the model will not see the exact picure twice.\n",
    "\n",
    "We are reusing *model2* created before from CNN from scratch."
   ]
  },
  {
   "cell_type": "code",
   "execution_count": 0,
   "metadata": {
    "colab": {},
    "colab_type": "code",
    "id": "KXAsnL0mPGMg"
   },
   "outputs": [],
   "source": [
    "#model2 has been recreated and compiled it above\n",
    "from keras.preprocessing.image import ImageDataGenerator\n",
    "\n",
    "train_datagen = ImageDataGenerator(\n",
    "      rotation_range=40,\n",
    "      height_shift_range = 0.2,\n",
    "      shear_range = 0.2,\n",
    "      zoom_range=0.3,\n",
    "      fill_mode='nearest')\n",
    "batch_size=32\n",
    "it=train_datagen.flow(X_train,y_train,batch_size)"
   ]
  },
  {
   "cell_type": "markdown",
   "metadata": {
    "colab_type": "text",
    "id": "pYgGbJhQAlk6"
   },
   "source": [
    "Very simple transformations have been applied:\n",
    "\n",
    "1.   *rotation_range* indicates the degree on which we rotate the picture.\n",
    "2.   *height_shift_range* randomly vertical shift.\n",
    "3.   *shear_range* refers to shear intensity.\n",
    "4.   *zoom_range* randomly zoom inside pictures.\n",
    "5.   *fill_mode* is used for filling in newly created pixels.\n",
    "\n"
   ]
  },
  {
   "cell_type": "code",
   "execution_count": 0,
   "metadata": {
    "colab": {},
    "colab_type": "code",
    "id": "DyMiJoE6RyB1"
   },
   "outputs": [],
   "source": [
    "#train the model\n",
    "history3=model2.fit_generator(\n",
    "    it,\n",
    "    steps_per_epoch= 250,\n",
    "    verbose=False,\n",
    "    epochs=20,\n",
    "    validation_data=(X_val,y_val))\n",
    "  "
   ]
  },
  {
   "cell_type": "code",
   "execution_count": 11,
   "metadata": {
    "colab": {
     "base_uri": "https://localhost:8080/",
     "height": 85
    },
    "colab_type": "code",
    "executionInfo": {
     "elapsed": 17973,
     "status": "ok",
     "timestamp": 1590978347191,
     "user": {
      "displayName": "Francesco Palermo",
      "photoUrl": "",
      "userId": "11834492980548815371"
     },
     "user_tz": -600
    },
    "id": "ZEtxQLl5Sbtc",
    "outputId": "bdb398cc-4b7f-4abc-9046-cb8ddf84bd35"
   },
   "outputs": [
    {
     "name": "stdout",
     "output_type": "stream",
     "text": [
      "98479/98479 [==============================] - 11s 117us/step\n",
      "12270/12270 [==============================] - 1s 116us/step\n",
      "The accuracy in the training set is 0.8490947484970093\n",
      "The accuracy in the validation set is 0.8511817455291748\n"
     ]
    }
   ],
   "source": [
    "results_train = model2.evaluate(X_train,y_train)\n",
    "results_eval = model2.evaluate(X_val,y_val)\n",
    "print(\"The accuracy in the training set is\",results_train[1])\n",
    "print(\"The accuracy in the validation set is\",results_eval[1])"
   ]
  },
  {
   "cell_type": "markdown",
   "metadata": {
    "colab_type": "text",
    "id": "nDtMzw34BZGe"
   },
   "source": [
    "The accuracy in the validation set is still high. However, data augmentation did not improve the classifier built with CNN from scatch."
   ]
  },
  {
   "cell_type": "markdown",
   "metadata": {
    "colab_type": "text",
    "id": "WptNcZHpBq-Z"
   },
   "source": [
    "#### Transfer Learning"
   ]
  },
  {
   "cell_type": "markdown",
   "metadata": {
    "colab_type": "text",
    "id": "DNJxu5e8BxSe"
   },
   "source": [
    "In conclusion, **transfer learning** is applied. \n",
    "A *pre trained* network is a saved model that has been already trained on a very large dataset.\n",
    "\n",
    "This dataset contains usually million of records and it is a multiclassification problem with hundreds of images.\n",
    "\n",
    "We are going to use *ImageNet* and then repurpose this trained network for our hair classification task. We use VGG16 architecture (Karen Simonyan and Zisserman) developed around 2014.\n",
    "\n",
    "\n"
   ]
  },
  {
   "cell_type": "code",
   "execution_count": 0,
   "metadata": {
    "colab": {},
    "colab_type": "code",
    "id": "DxfoQVRBB1hj"
   },
   "outputs": [],
   "source": [
    "from keras.applications import VGG16\n",
    "\n",
    "conv_base = VGG16(weights='imagenet',\n",
    "                  include_top=False,\n",
    "                  input_shape=(48, 48, 3))"
   ]
  },
  {
   "cell_type": "markdown",
   "metadata": {
    "colab_type": "text",
    "id": "cT_R8z0tuR72"
   },
   "source": [
    "According to the snippet above, we will only reuse the *convolutional base* *(Include_top = False)*.\n",
    "\n",
    "This is because what the *convolutional base* learns is very general and therefore easily reusable. If we were used top layers, we can risk to \"learn\" features maps that are too specific to the Imagenet classification task.\n",
    "\n",
    "Hence, we are going to obtain generic feature maps, such as edges.\n",
    "\n",
    "Next we need to create our model. As we can see, on top of the convolutional base we add the densely connected layers that are specific to our problem."
   ]
  },
  {
   "cell_type": "code",
   "execution_count": 0,
   "metadata": {
    "colab": {},
    "colab_type": "code",
    "id": "SCY0KfX9EW6l"
   },
   "outputs": [],
   "source": [
    "#model definition\n",
    "model4 = models.Sequential()\n",
    "#convolutional base\n",
    "model4.add(conv_base)\n",
    "#Densely connected layers\n",
    "model4.add(layers.Flatten())\n",
    "model4.add(layers.Dropout(0.25))\n",
    "model4.add(layers.Dense(64, activation='relu'))\n",
    "model4.add(layers.BatchNormalization())\n",
    "model4.add(layers.Dense(4, activation='softmax'))"
   ]
  },
  {
   "cell_type": "markdown",
   "metadata": {
    "colab_type": "text",
    "id": "BKWxhVtPx6ws"
   },
   "source": [
    "Before compiling the model defined above, it is necessary to freeze the convolutional base. \n",
    "\n",
    "This prevents not to update the convolutional base weights and therefore preserve what it has learned before."
   ]
  },
  {
   "cell_type": "code",
   "execution_count": 0,
   "metadata": {
    "colab": {},
    "colab_type": "code",
    "id": "0diNre_qy0Yt"
   },
   "outputs": [],
   "source": [
    "#Freeze the convolutional base\n",
    "conv_base.trainable = False"
   ]
  },
  {
   "cell_type": "code",
   "execution_count": 0,
   "metadata": {
    "colab": {},
    "colab_type": "code",
    "id": "40WCtzBgwv1p"
   },
   "outputs": [],
   "source": [
    "opt = keras.optimizers.Adam(learning_rate=0.00013)\n",
    "model4.compile(optimizer=opt, loss='categorical_crossentropy', metrics =['accuracy'])\n",
    "history4=model4.fit(X_train,y_train,\n",
    "        epochs = 20,\n",
    "        batch_size = 32,\n",
    "        verbose=False,\n",
    "        validation_data = (X_val,y_val) )"
   ]
  },
  {
   "cell_type": "code",
   "execution_count": 25,
   "metadata": {
    "colab": {
     "base_uri": "https://localhost:8080/",
     "height": 85
    },
    "colab_type": "code",
    "executionInfo": {
     "elapsed": 33243,
     "status": "ok",
     "timestamp": 1590980832810,
     "user": {
      "displayName": "Francesco Palermo",
      "photoUrl": "",
      "userId": "11834492980548815371"
     },
     "user_tz": -600
    },
    "id": "E_WXtjOczabm",
    "outputId": "95eb973e-f37e-410d-d22b-27319d3744fb"
   },
   "outputs": [
    {
     "name": "stdout",
     "output_type": "stream",
     "text": [
      "98479/98479 [==============================] - 29s 290us/step\n",
      "12270/12270 [==============================] - 4s 288us/step\n",
      "The accuracy in the training set is 0.7472862005233765\n",
      "The accuracy in the validation set is 0.7278728485107422\n"
     ]
    }
   ],
   "source": [
    "results_train = model4.evaluate(X_train,y_train)\n",
    "results_eval = model4.evaluate(X_val,y_val)\n",
    "print(\"The accuracy in the training set is\",results_train[1])\n",
    "print(\"The accuracy in the validation set is\",results_eval[1])"
   ]
  },
  {
   "cell_type": "markdown",
   "metadata": {
    "colab_type": "text",
    "id": "XkFg2GQ-gE_b"
   },
   "source": [
    "The totally accuracy on validation drop drastically comparing previous model."
   ]
  },
  {
   "cell_type": "markdown",
   "metadata": {
    "colab_type": "text",
    "id": "LwSl4pwjzlzC"
   },
   "source": [
    "### Conclusion for deep learning methods"
   ]
  },
  {
   "cell_type": "markdown",
   "metadata": {
    "colab_type": "text",
    "id": "32q0y1SX4mhY"
   },
   "source": [
    "We can finally plot the total accuracy of the candidates model over the validation data in order to compare them graphically."
   ]
  },
  {
   "cell_type": "code",
   "execution_count": 19,
   "metadata": {
    "colab": {
     "base_uri": "https://localhost:8080/",
     "height": 312
    },
    "colab_type": "code",
    "executionInfo": {
     "elapsed": 1171,
     "status": "ok",
     "timestamp": 1590983545548,
     "user": {
      "displayName": "Francesco Palermo",
      "photoUrl": "",
      "userId": "11834492980548815371"
     },
     "user_tz": -600
    },
    "id": "X_-ALu4i4_mF",
    "outputId": "4ff78ea5-2f9f-4ffe-9905-8ef1eaea8a54"
   },
   "outputs": [
    {
     "data": {
      "text/plain": [
       "<matplotlib.legend.Legend at 0x7f8fe0386eb8>"
      ]
     },
     "execution_count": 19,
     "metadata": {
      "tags": []
     },
     "output_type": "execute_result"
    },
    {
     "data": {
      "image/png": "[encoded data removed]",
      "text/plain": [
       "<Figure size 1152x288 with 1 Axes>"
      ]
     },
     "metadata": {
      "needs_background": "light",
      "tags": []
     },
     "output_type": "display_data"
    }
   ],
   "source": [
    "plt.figure(figsize=(16,4))\n",
    "plt.title(\"Comparison between models\")\n",
    "plt.xlabel(\"Epochs\")\n",
    "plt.ylabel(\"Accuracy\")\n",
    "plt.plot(history.history[\"val_accuracy\"],label=\"Basic NN\")\n",
    "plt.plot(history2.history[\"val_accuracy\"],label=\"Cnn from scratch\")\n",
    "plt.plot(history3.history[\"val_accuracy\"],label=\"Data Augmentation \")\n",
    "plt.plot(history4.history[\"val_accuracy\"],label=\"Transfer learning\")\n",
    "plt.legend(loc=\"center right\")\n"
   ]
  },
  {
   "cell_type": "markdown",
   "metadata": {
    "colab_type": "text",
    "id": "Kr8DoJPWQkwp"
   },
   "source": [
    "The chart above confirms what said before. Cnn built from scratch shows better performance than the competitors."
   ]
  },
  {
   "cell_type": "markdown",
   "metadata": {
    "colab_type": "text",
    "id": "WpSDYrQ_0Knh"
   },
   "source": [
    "Finally, We have shown some of the most successful deep learning methods. The hypothesis made at the begin of this notebook have been satisfied. \n",
    "\n",
    "Hence, the avalaible data is adequately informative to learn the relationship between inputs and outputs.\n",
    "\n",
    "The model who achieves the best accuracy on the public test set is CNN (no data augmentation) with 0.92869.\n",
    "\n",
    "**This has been confirmed with the private test set 0.6312**.\n",
    "Once again, this unexpected drop may be caused by some noise in the new private dataset rather than lack of generalization of the model.\n",
    "\n",
    "A summary of the applied methods and their performances (on validation set) have been shown:\n",
    "\n",
    "---Basic Neural Network           0.839\n",
    "\n",
    "-- Convolutional Neural Network        0.9189\n",
    "\n",
    "-- CNN with data augmentation        0.8511\n",
    "\n",
    "-- Transfer Learning   0.7278"
   ]
  },
  {
   "cell_type": "markdown",
   "metadata": {
    "colab_type": "text",
    "id": "QMwjMGLEzo99"
   },
   "source": [
    "## Reference"
   ]
  },
  {
   "cell_type": "markdown",
   "metadata": {
    "colab_type": "text",
    "id": "1Vi5bHqozwDp"
   },
   "source": [
    "Some theory and code have been taken from the following books:"
   ]
  },
  {
   "cell_type": "markdown",
   "metadata": {
    "colab_type": "text",
    "id": "0Tq8k4HUzxHp"
   },
   "source": [
    "\n",
    "*   Hands-On Machine Learning with Scikit-Learn, Keras, and TensorFlow: Concepts, Tools, and Techniques to Build Intelligent Systems, 2017, by Aurélien Géron. \n",
    "*   Deep Learning With Python, by Francois Chollet, 2017\n"
   ]
  }
 ],
 "metadata": {
  "accelerator": "GPU",
  "colab": {
   "authorship_tag": "ABX9TyN4y75R5Y7UXYy1d4eAsLLe",
   "collapsed_sections": [],
   "name": "45539669_conv.ipynb",
   "provenance": [],
   "toc_visible": true
  },
  "kernelspec": {
   "display_name": "Python 3",
   "language": "python",
   "name": "python3"
  },
  "language_info": {
   "codemirror_mode": {
    "name": "ipython",
    "version": 3
   },
   "file_extension": ".py",
   "mimetype": "text/x-python",
   "name": "python",
   "nbconvert_exporter": "python",
   "pygments_lexer": "ipython3",
   "version": "3.7.3"
  }
 },
 "nbformat": 4,
 "nbformat_minor": 1
}
